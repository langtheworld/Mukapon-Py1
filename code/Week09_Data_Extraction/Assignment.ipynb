{
  "cells": [
    {
      "cell_type": "markdown",
      "metadata": {
        "id": "r4HnGlaN9qng"
      },
      "source": [
        "# Assignment: Extracting Static WebPage\n",
        "\n",
        "Extract information about “วันพระ” for 3 years from:\n",
        "- https://www.myhora.com/ปฏิทิน/วันพระ-พ.ศ.2565.aspx\n",
        "- https://www.myhora.com/ปฏิทิน/วันพระ-พ.ศ.2566.aspx\n",
        "- https://www.myhora.com/ปฏิทิน/วันพระ-พ.ศ.2567.aspx\n"
      ]
    },
    {
      "cell_type": "markdown",
      "metadata": {
        "id": "CZROnWOx9qnk"
      },
      "source": [
        "Note that you can use dateparse package to parse Thai date.  First, we will have to install the package, this is for Google Colab users.  Otherwise, installing via command line is recommended (pip or conda)."
      ]
    },
    {
      "cell_type": "code",
      "execution_count": 2,
      "metadata": {
        "scrolled": true,
        "id": "IvrbkllO9qnl",
        "outputId": "cfd1ae4c-25a5-4487-9f5b-721171138df9",
        "colab": {
          "base_uri": "https://localhost:8080/"
        }
      },
      "outputs": [
        {
          "output_type": "stream",
          "name": "stdout",
          "text": [
            "Collecting dateparser\n",
            "  Downloading dateparser-1.1.8-py2.py3-none-any.whl (293 kB)\n",
            "\u001b[2K     \u001b[90m━━━━━━━━━━━━━━━━━━━━━━━━━━━━━━━━━━━━━━━━\u001b[0m \u001b[32m293.8/293.8 kB\u001b[0m \u001b[31m4.8 MB/s\u001b[0m eta \u001b[36m0:00:00\u001b[0m\n",
            "\u001b[?25hRequirement already satisfied: python-dateutil in /usr/local/lib/python3.10/dist-packages (from dateparser) (2.8.2)\n",
            "Requirement already satisfied: pytz in /usr/local/lib/python3.10/dist-packages (from dateparser) (2023.3.post1)\n",
            "Requirement already satisfied: regex!=2019.02.19,!=2021.8.27 in /usr/local/lib/python3.10/dist-packages (from dateparser) (2023.6.3)\n",
            "Requirement already satisfied: tzlocal in /usr/local/lib/python3.10/dist-packages (from dateparser) (5.1)\n",
            "Requirement already satisfied: six>=1.5 in /usr/local/lib/python3.10/dist-packages (from python-dateutil->dateparser) (1.16.0)\n",
            "Installing collected packages: dateparser\n",
            "Successfully installed dateparser-1.1.8\n"
          ]
        }
      ],
      "source": [
        "import sys\n",
        "IN_COLAB = 'google.colab' in sys.modules\n",
        "if IN_COLAB:\n",
        "    %pip install dateparser"
      ]
    },
    {
      "cell_type": "code",
      "execution_count": 3,
      "metadata": {
        "id": "rXf96pQ49qnm"
      },
      "outputs": [],
      "source": [
        "import dateparser"
      ]
    },
    {
      "cell_type": "markdown",
      "metadata": {
        "id": "7pdY1ukW9qnm"
      },
      "source": [
        "To convert from thai text date string, we will use the parse method.  Note that the parse method assumes the BC year, not BE.  Thus, we will have to subtract 543 from the year.  In addition, weekday() returns day of week with 0=Monday, ..., 6=Sunday."
      ]
    },
    {
      "cell_type": "code",
      "execution_count": 4,
      "metadata": {
        "id": "H6BE9_QJ9qnn",
        "outputId": "1b536e48-56b1-471a-9a3a-746541f6b6ad",
        "colab": {
          "base_uri": "https://localhost:8080/"
        }
      },
      "outputs": [
        {
          "output_type": "stream",
          "name": "stdout",
          "text": [
            "2563-01-17 00:00:00\n",
            "0\n",
            "2020-01-17 00:00:00\n",
            "4\n"
          ]
        }
      ],
      "source": [
        "dt = dateparser.parse('วันศุกร์ที่ 17 มกราคม 2563')\n",
        "\n",
        "# this will print out weekday == 0 (Monday)\n",
        "print(dt)\n",
        "print(dt.weekday())\n",
        "\n",
        "# this will print out weekday == 4 (Friday)\n",
        "dt = dt.replace(year=dt.year-543)\n",
        "print(dt)\n",
        "print(dt.weekday())"
      ]
    },
    {
      "cell_type": "code",
      "execution_count": 5,
      "metadata": {
        "id": "wN11Dc2u9qnn",
        "outputId": "0fa884ed-485a-4d8f-b51f-8aba9123e77d",
        "colab": {
          "base_uri": "https://localhost:8080/"
        }
      },
      "outputs": [
        {
          "output_type": "stream",
          "name": "stdout",
          "text": [
            "2021-09-21 00:00:00\n",
            "1\n"
          ]
        }
      ],
      "source": [
        "dt = dateparser.parse('วันเสาร์ที่ 21 กันยายน 2564')\n",
        "dt = dt.replace(year=dt.year-543)\n",
        "print(dt)\n",
        "print(dt.weekday())"
      ]
    },
    {
      "cell_type": "markdown",
      "metadata": {
        "id": "VHZ7sJ8s9qnn"
      },
      "source": [
        "Count the distribution of number of week days that are “วันพระ” for all three years and answer the following questions:"
      ]
    },
    {
      "cell_type": "markdown",
      "metadata": {
        "id": "uLCxMWyX9qno"
      },
      "source": [
        "## How many วันพระ in total (of 3 years)?"
      ]
    },
    {
      "cell_type": "code",
      "execution_count": 6,
      "metadata": {
        "id": "6r3cmIvF9qno"
      },
      "outputs": [],
      "source": [
        "from bs4 import BeautifulSoup\n",
        "from bs4.element import Tag\n",
        "import requests\n",
        "import json"
      ]
    },
    {
      "cell_type": "code",
      "source": [
        "bigdata_2565 = requests.get('https://www.myhora.com/ปฏิทิน/วันพระ-พ.ศ.2565.aspx')\n",
        "bigdata_2566 = requests.get('https://www.myhora.com/ปฏิทิน/วันพระ-พ.ศ.2566.aspx')\n",
        "bigdata_2567 = requests.get('https://www.myhora.com/ปฏิทิน/วันพระ-พ.ศ.2567.aspx')"
      ],
      "metadata": {
        "id": "19b1nC9YETUY"
      },
      "execution_count": 54,
      "outputs": []
    },
    {
      "cell_type": "code",
      "source": [
        "soup_2565 = BeautifulSoup(bigdata_2565.text, 'html.parser')\n",
        "soup_2566 = BeautifulSoup(bigdata_2566.text, 'html.parser')\n",
        "soup_2567 = BeautifulSoup(bigdata_2567.text, 'html.parser')\n"
      ],
      "metadata": {
        "id": "gXc1boo9ETZw"
      },
      "execution_count": 55,
      "outputs": []
    },
    {
      "cell_type": "code",
      "source": [],
      "metadata": {
        "id": "4hUfFlNpKnSk",
        "outputId": "798f8896-a04a-44fa-89fd-4ecbf099bec4",
        "colab": {
          "base_uri": "https://localhost:8080/"
        }
      },
      "execution_count": 47,
      "outputs": [
        {
          "output_type": "stream",
          "name": "stdout",
          "text": [
            "<title>วันพระ 2565 ปฏิทินวันพระ พ.ศ.2565/2022 - myhora.com</title>\n"
          ]
        }
      ]
    },
    {
      "cell_type": "markdown",
      "source": [
        "**Filter only day per year**"
      ],
      "metadata": {
        "id": "mKf6kWOmPLtT"
      }
    },
    {
      "cell_type": "code",
      "source": [
        "#Filter only div bud day col\n",
        "blog_titles_2565 = soup_2565.find_all('div', class_='bud-day-col')\n",
        "count_2565 = 0\n",
        "for title in blog_titles_2565:\n",
        "    print(title.text)\n",
        "    if str(2565) in title.text:\n",
        "      count_2565 += 1\n",
        "\n",
        "print(count_2565)\n",
        "\n"
      ],
      "metadata": {
        "id": "XWRmauoDL44r",
        "outputId": "a1deb5bf-6319-4d64-adf3-2f5abbe62ed1",
        "colab": {
          "base_uri": "https://localhost:8080/"
        }
      },
      "execution_count": 60,
      "outputs": [
        {
          "output_type": "stream",
          "name": "stdout",
          "text": [
            "วันอาทิตย์ที่ 2 มกราคม 2565\n",
            "แรม ๑๔ ค่ำ เดือนอ้าย(๑) ปีฉลู\n",
            "\n",
            "วันจันทร์ที่ 10 มกราคม 2565\n",
            "ขึ้น ๘ ค่ำ เดือนยี่(๒) ปีฉลู\n",
            "\n",
            "วันจันทร์ที่ 17 มกราคม 2565\n",
            "ขึ้น ๑๕ ค่ำ เดือนยี่(๒) ปีฉลู\n",
            "\n",
            "วันอังคารที่ 25 มกราคม 2565\n",
            "แรม ๘ ค่ำ เดือนยี่(๒) ปีฉลู\n",
            "\n",
            "วันอังคารที่ 1 กุมภาพันธ์ 2565\n",
            "แรม ๑๕ ค่ำ เดือนยี่(๒) ปีฉลู\n",
            "\n",
            "วันพุธที่ 9 กุมภาพันธ์ 2565\n",
            "ขึ้น ๘ ค่ำ เดือนสาม(๓) ปีฉลู\n",
            "\n",
            "วันพุธที่ 16 กุมภาพันธ์ 2565\n",
            "ขึ้น ๑๕ ค่ำ เดือนสาม(๓) ปีฉลู\n",
            "(วันมาฆบูชา)\n",
            "วันพฤหัสบดีที่ 24 กุมภาพันธ์ 2565\n",
            "แรม ๘ ค่ำ เดือนสาม(๓) ปีฉลู\n",
            "\n",
            "วันพุธที่ 2 มีนาคม 2565\n",
            "แรม ๑๔ ค่ำ เดือนสาม(๓) ปีฉลู\n",
            "\n",
            "วันพฤหัสบดีที่ 10 มีนาคม 2565\n",
            "ขึ้น ๘ ค่ำ เดือนสี่(๔) ปีฉลู\n",
            "\n",
            "วันพฤหัสบดีที่ 17 มีนาคม 2565\n",
            "ขึ้น ๑๕ ค่ำ เดือนสี่(๔) ปีฉลู\n",
            "\n",
            "วันศุกร์ที่ 25 มีนาคม 2565\n",
            "แรม ๘ ค่ำ เดือนสี่(๔) ปีฉลู\n",
            "\n",
            "วันศุกร์ที่ 1 เมษายน 2565\n",
            "แรม ๑๕ ค่ำ เดือนสี่(๔) ปีฉลู\n",
            "\n",
            "วันเสาร์ที่ 9 เมษายน 2565\n",
            "ขึ้น ๘ ค่ำ เดือนห้า(๕) ปีขาล\n",
            "\n",
            "วันเสาร์ที่ 16 เมษายน 2565\n",
            "ขึ้น ๑๕ ค่ำ เดือนห้า(๕) ปีขาล\n",
            "\n",
            "วันอาทิตย์ที่ 24 เมษายน 2565\n",
            "แรม ๘ ค่ำ เดือนห้า(๕) ปีขาล\n",
            "\n",
            "วันเสาร์ที่ 30 เมษายน 2565\n",
            "แรม ๑๔ ค่ำ เดือนห้า(๕) ปีขาล\n",
            "\n",
            "วันอาทิตย์ที่ 8 พฤษภาคม 2565\n",
            "ขึ้น ๘ ค่ำ เดือนหก(๖) ปีขาล\n",
            "\n",
            "วันอาทิตย์ที่ 15 พฤษภาคม 2565\n",
            "ขึ้น ๑๕ ค่ำ เดือนหก(๖) ปีขาล\n",
            "(วันวิสาขบูชา)\n",
            "วันจันทร์ที่ 23 พฤษภาคม 2565\n",
            "แรม ๘ ค่ำ เดือนหก(๖) ปีขาล\n",
            "(วันอัฏฐมีบูชา)\n",
            "วันจันทร์ที่ 30 พฤษภาคม 2565\n",
            "แรม ๑๕ ค่ำ เดือนหก(๖) ปีขาล\n",
            "\n",
            "วันอังคารที่ 7 มิถุนายน 2565\n",
            "ขึ้น ๘ ค่ำ เดือนเจ็ด(๗) ปีขาล\n",
            "\n",
            "วันอังคารที่ 14 มิถุนายน 2565\n",
            "ขึ้น ๑๕ ค่ำ เดือนเจ็ด(๗) ปีขาล\n",
            "\n",
            "วันพุธที่ 22 มิถุนายน 2565\n",
            "แรม ๘ ค่ำ เดือนเจ็ด(๗) ปีขาล\n",
            "\n",
            "วันอังคารที่ 28 มิถุนายน 2565\n",
            "แรม ๑๔ ค่ำ เดือนเจ็ด(๗) ปีขาล\n",
            "\n",
            "วันพุธที่ 6 กรกฎาคม 2565\n",
            "ขึ้น ๘ ค่ำ เดือนแปด(๘) ปีขาล\n",
            "\n",
            "วันพุธที่ 13 กรกฎาคม 2565\n",
            "ขึ้น ๑๕ ค่ำ เดือนแปด(๘) ปีขาล\n",
            "(วันอาสาฬหบูชา)\n",
            "วันพฤหัสบดีที่ 14 กรกฎาคม 2565\n",
            "แรม ๑ ค่ำ เดือนแปด(๘) ปีขาล\n",
            "(วันเข้าพรรษา)\n",
            "วันพฤหัสบดีที่ 21 กรกฎาคม 2565\n",
            "แรม ๘ ค่ำ เดือนแปด(๘) ปีขาล\n",
            "\n",
            "วันพฤหัสบดีที่ 28 กรกฎาคม 2565\n",
            "แรม ๑๕ ค่ำ เดือนแปด(๘) ปีขาล\n",
            "(วันเฉลิมฯ ร.10)\n",
            "วันศุกร์ที่ 5 สิงหาคม 2565\n",
            "ขึ้น ๘ ค่ำ เดือนเก้า(๙) ปีขาล\n",
            "\n",
            "วันศุกร์ที่ 12 สิงหาคม 2565\n",
            "ขึ้น ๑๕ ค่ำ เดือนเก้า(๙) ปีขาล\n",
            "(วันเฉลิมฯ วันแม่)\n",
            "วันเสาร์ที่ 20 สิงหาคม 2565\n",
            "แรม ๘ ค่ำ เดือนเก้า(๙) ปีขาล\n",
            "\n",
            "วันศุกร์ที่ 26 สิงหาคม 2565\n",
            "แรม ๑๔ ค่ำ เดือนเก้า(๙) ปีขาล\n",
            "\n",
            "วันเสาร์ที่ 3 กันยายน 2565\n",
            "ขึ้น ๘ ค่ำ เดือนสิบ(๑๐) ปีขาล\n",
            "\n",
            "วันเสาร์ที่ 10 กันยายน 2565\n",
            "ขึ้น ๑๕ ค่ำ เดือนสิบ(๑๐) ปีขาล\n",
            "\n",
            "วันอาทิตย์ที่ 18 กันยายน 2565\n",
            "แรม ๘ ค่ำ เดือนสิบ(๑๐) ปีขาล\n",
            "\n",
            "วันอาทิตย์ที่ 25 กันยายน 2565\n",
            "แรม ๑๕ ค่ำ เดือนสิบ(๑๐) ปีขาล\n",
            "\n",
            "วันจันทร์ที่ 3 ตุลาคม 2565\n",
            "ขึ้น ๘ ค่ำ เดือนสิบเอ็ด(๑๑) ปีขาล\n",
            "\n",
            "วันจันทร์ที่ 10 ตุลาคม 2565\n",
            "ขึ้น ๑๕ ค่ำ เดือนสิบเอ็ด(๑๑) ปีขาล\n",
            "(วันออกพรรษา)\n",
            "วันอังคารที่ 18 ตุลาคม 2565\n",
            "แรม ๘ ค่ำ เดือนสิบเอ็ด(๑๑) ปีขาล\n",
            "\n",
            "วันจันทร์ที่ 24 ตุลาคม 2565\n",
            "แรม ๑๔ ค่ำ เดือนสิบเอ็ด(๑๑) ปีขาล\n",
            "\n",
            "วันอังคารที่ 1 พฤศจิกายน 2565\n",
            "ขึ้น ๘ ค่ำ เดือนสิบสอง(๑๒) ปีขาล\n",
            "\n",
            "วันอังคารที่ 8 พฤศจิกายน 2565\n",
            "ขึ้น ๑๕ ค่ำ เดือนสิบสอง(๑๒) ปีขาล\n",
            "(วันลอยกระทง)\n",
            "วันพุธที่ 16 พฤศจิกายน 2565\n",
            "แรม ๘ ค่ำ เดือนสิบสอง(๑๒) ปีขาล\n",
            "\n",
            "วันพุธที่ 23 พฤศจิกายน 2565\n",
            "แรม ๑๕ ค่ำ เดือนสิบสอง(๑๒) ปีขาล\n",
            "\n",
            "วันพฤหัสบดีที่ 1 ธันวาคม 2565\n",
            "ขึ้น ๘ ค่ำ เดือนอ้าย(๑) ปีขาล\n",
            "\n",
            "วันพฤหัสบดีที่ 8 ธันวาคม 2565\n",
            "ขึ้น ๑๕ ค่ำ เดือนอ้าย(๑) ปีขาล\n",
            "\n",
            "วันศุกร์ที่ 16 ธันวาคม 2565\n",
            "แรม ๘ ค่ำ เดือนอ้าย(๑) ปีขาล\n",
            "\n",
            "วันพฤหัสบดีที่ 22 ธันวาคม 2565\n",
            "แรม ๑๔ ค่ำ เดือนอ้าย(๑) ปีขาล\n",
            "\n",
            "วันศุกร์ที่ 30 ธันวาคม 2565\n",
            "ขึ้น ๘ ค่ำ เดือนยี่(๒) ปีขาล\n",
            "\n",
            "51\n"
          ]
        }
      ]
    },
    {
      "cell_type": "code",
      "source": [
        "blog_titles_2566 = soup_2566.find_all('div', class_='bud-day-col')\n",
        "count_2566 = 0\n",
        "for title in blog_titles_2566:\n",
        "    print(title.text)\n",
        "    if str(2566) in title.text:\n",
        "      count_2566 += 1\n",
        "\n",
        "print(count_2566)"
      ],
      "metadata": {
        "id": "5wcvW01oMNzZ",
        "outputId": "b5a7b6e8-3fde-455e-9bf5-81ef40f055ae",
        "colab": {
          "base_uri": "https://localhost:8080/"
        }
      },
      "execution_count": 57,
      "outputs": [
        {
          "output_type": "stream",
          "name": "stdout",
          "text": [
            "วันศุกร์ที่ 6 มกราคม 2566\n",
            "ขึ้น ๑๕ ค่ำ เดือนยี่(๒) ปีขาล\n",
            "\n",
            "วันเสาร์ที่ 14 มกราคม 2566\n",
            "แรม ๘ ค่ำ เดือนยี่(๒) ปีขาล\n",
            "\n",
            "วันเสาร์ที่ 21 มกราคม 2566\n",
            "แรม ๑๕ ค่ำ เดือนยี่(๒) ปีขาล\n",
            "\n",
            "วันอาทิตย์ที่ 29 มกราคม 2566\n",
            "ขึ้น ๘ ค่ำ เดือนสาม(๓) ปีขาล\n",
            "\n",
            "วันอาทิตย์ที่ 5 กุมภาพันธ์ 2566\n",
            "ขึ้น ๑๕ ค่ำ เดือนสาม(๓) ปีขาล\n",
            "\n",
            "วันจันทร์ที่ 13 กุมภาพันธ์ 2566\n",
            "แรม ๘ ค่ำ เดือนสาม(๓) ปีขาล\n",
            "\n",
            "วันอาทิตย์ที่ 19 กุมภาพันธ์ 2566\n",
            "แรม ๑๔ ค่ำ เดือนสาม(๓) ปีขาล\n",
            "\n",
            "วันจันทร์ที่ 27 กุมภาพันธ์ 2566\n",
            "ขึ้น ๘ ค่ำ เดือนสี่(๔) ปีขาล\n",
            "\n",
            "วันจันทร์ที่ 6 มีนาคม 2566\n",
            "ขึ้น ๑๕ ค่ำ เดือนสี่(๔) ปีขาล\n",
            "(วันมาฆบูชา)\n",
            "วันอังคารที่ 14 มีนาคม 2566\n",
            "แรม ๘ ค่ำ เดือนสี่(๔) ปีขาล\n",
            "\n",
            "วันอังคารที่ 21 มีนาคม 2566\n",
            "แรม ๑๕ ค่ำ เดือนสี่(๔) ปีขาล\n",
            "\n",
            "วันพุธที่ 29 มีนาคม 2566\n",
            "ขึ้น ๘ ค่ำ เดือนห้า(๕) ปีเถาะ\n",
            "\n",
            "วันพุธที่ 5 เมษายน 2566\n",
            "ขึ้น ๑๕ ค่ำ เดือนห้า(๕) ปีเถาะ\n",
            "\n",
            "วันพฤหัสบดีที่ 13 เมษายน 2566\n",
            "แรม ๘ ค่ำ เดือนห้า(๕) ปีเถาะ\n",
            "(วันสงกรานต์)\n",
            "วันพุธที่ 19 เมษายน 2566\n",
            "แรม ๑๔ ค่ำ เดือนห้า(๕) ปีเถาะ\n",
            "\n",
            "วันพฤหัสบดีที่ 27 เมษายน 2566\n",
            "ขึ้น ๘ ค่ำ เดือนหก(๖) ปีเถาะ\n",
            "\n",
            "วันพฤหัสบดีที่ 4 พฤษภาคม 2566\n",
            "ขึ้น ๑๕ ค่ำ เดือนหก(๖) ปีเถาะ\n",
            "(วันฉัตรมงคล)\n",
            "วันศุกร์ที่ 12 พฤษภาคม 2566\n",
            "แรม ๘ ค่ำ เดือนหก(๖) ปีเถาะ\n",
            "\n",
            "วันศุกร์ที่ 19 พฤษภาคม 2566\n",
            "แรม ๑๕ ค่ำ เดือนหก(๖) ปีเถาะ\n",
            "\n",
            "วันเสาร์ที่ 27 พฤษภาคม 2566\n",
            "ขึ้น ๘ ค่ำ เดือนเจ็ด(๗) ปีเถาะ\n",
            "\n",
            "วันเสาร์ที่ 3 มิถุนายน 2566\n",
            "ขึ้น ๑๕ ค่ำ เดือนเจ็ด(๗) ปีเถาะ\n",
            "(วันเฉลิมฯ พระราชินี, วันวิสาขบูชา)\n",
            "วันอาทิตย์ที่ 11 มิถุนายน 2566\n",
            "แรม ๘ ค่ำ เดือนเจ็ด(๗) ปีเถาะ\n",
            "(วันอัฏฐมีบูชา)\n",
            "วันเสาร์ที่ 17 มิถุนายน 2566\n",
            "แรม ๑๔ ค่ำ เดือนเจ็ด(๗) ปีเถาะ\n",
            "\n",
            "วันอาทิตย์ที่ 25 มิถุนายน 2566\n",
            "ขึ้น ๘ ค่ำ เดือนแปด(๘) ปีเถาะ\n",
            "\n",
            "วันอาทิตย์ที่ 2 กรกฎาคม 2566\n",
            "ขึ้น ๑๕ ค่ำ เดือนแปด(๘) ปีเถาะ\n",
            "\n",
            "วันจันทร์ที่ 10 กรกฎาคม 2566\n",
            "แรม ๘ ค่ำ เดือนแปด(๘) ปีเถาะ\n",
            "\n",
            "วันจันทร์ที่ 17 กรกฎาคม 2566\n",
            "แรม ๑๕ ค่ำ เดือนแปด(๘) ปีเถาะ\n",
            "\n",
            "วันอังคารที่ 25 กรกฎาคม 2566\n",
            "ขึ้น ๘ ค่ำ เดือนแปดหลัง(๘๘) ปีเถาะ\n",
            "\n",
            "วันอังคารที่ 1 สิงหาคม 2566\n",
            "ขึ้น ๑๕ ค่ำ เดือนแปดหลัง(๘๘) ปีเถาะ\n",
            "(วันอาสาฬหบูชา)\n",
            "วันพุธที่ 2 สิงหาคม 2566\n",
            "แรม ๑ ค่ำ เดือนแปดหลัง(๘๘) ปีเถาะ\n",
            "(วันเข้าพรรษา)\n",
            "วันพุธที่ 9 สิงหาคม 2566\n",
            "แรม ๘ ค่ำ เดือนแปดหลัง(๘๘) ปีเถาะ\n",
            "\n",
            "วันพุธที่ 16 สิงหาคม 2566\n",
            "แรม ๑๕ ค่ำ เดือนแปดหลัง(๘๘) ปีเถาะ\n",
            "\n",
            "วันพฤหัสบดีที่ 24 สิงหาคม 2566\n",
            "ขึ้น ๘ ค่ำ เดือนเก้า(๙) ปีเถาะ\n",
            "\n",
            "วันพฤหัสบดีที่ 31 สิงหาคม 2566\n",
            "ขึ้น ๑๕ ค่ำ เดือนเก้า(๙) ปีเถาะ\n",
            "\n",
            "วันศุกร์ที่ 8 กันยายน 2566\n",
            "แรม ๘ ค่ำ เดือนเก้า(๙) ปีเถาะ\n",
            "\n",
            "วันพฤหัสบดีที่ 14 กันยายน 2566\n",
            "แรม ๑๔ ค่ำ เดือนเก้า(๙) ปีเถาะ\n",
            "\n",
            "วันศุกร์ที่ 22 กันยายน 2566\n",
            "ขึ้น ๘ ค่ำ เดือนสิบ(๑๐) ปีเถาะ\n",
            "\n",
            "วันศุกร์ที่ 29 กันยายน 2566\n",
            "ขึ้น ๑๕ ค่ำ เดือนสิบ(๑๐) ปีเถาะ\n",
            "\n",
            "วันเสาร์ที่ 7 ตุลาคม 2566\n",
            "แรม ๘ ค่ำ เดือนสิบ(๑๐) ปีเถาะ\n",
            "\n",
            "วันเสาร์ที่ 14 ตุลาคม 2566\n",
            "แรม ๑๕ ค่ำ เดือนสิบ(๑๐) ปีเถาะ\n",
            "\n",
            "วันอาทิตย์ที่ 22 ตุลาคม 2566\n",
            "ขึ้น ๘ ค่ำ เดือนสิบเอ็ด(๑๑) ปีเถาะ\n",
            "\n",
            "วันอาทิตย์ที่ 29 ตุลาคม 2566\n",
            "ขึ้น ๑๕ ค่ำ เดือนสิบเอ็ด(๑๑) ปีเถาะ\n",
            "(วันออกพรรษา)\n",
            "วันจันทร์ที่ 6 พฤศจิกายน 2566\n",
            "แรม ๘ ค่ำ เดือนสิบเอ็ด(๑๑) ปีเถาะ\n",
            "\n",
            "วันอาทิตย์ที่ 12 พฤศจิกายน 2566\n",
            "แรม ๑๔ ค่ำ เดือนสิบเอ็ด(๑๑) ปีเถาะ\n",
            "\n",
            "วันจันทร์ที่ 20 พฤศจิกายน 2566\n",
            "ขึ้น ๘ ค่ำ เดือนสิบสอง(๑๒) ปีเถาะ\n",
            "\n",
            "วันจันทร์ที่ 27 พฤศจิกายน 2566\n",
            "ขึ้น ๑๕ ค่ำ เดือนสิบสอง(๑๒) ปีเถาะ\n",
            "(วันลอยกระทง)\n",
            "วันอังคารที่ 5 ธันวาคม 2566\n",
            "แรม ๘ ค่ำ เดือนสิบสอง(๑๒) ปีเถาะ\n",
            "(,วันคล้ายวันเฉลิมฯ ร.9 ,วันพ่อ)\n",
            "วันอังคารที่ 12 ธันวาคม 2566\n",
            "แรม ๑๕ ค่ำ เดือนสิบสอง(๑๒) ปีเถาะ\n",
            "\n",
            "วันพุธที่ 20 ธันวาคม 2566\n",
            "ขึ้น ๘ ค่ำ เดือนอ้าย(๑) ปีเถาะ\n",
            "\n",
            "วันพุธที่ 27 ธันวาคม 2566\n",
            "ขึ้น ๑๕ ค่ำ เดือนอ้าย(๑) ปีเถาะ\n",
            "\n",
            "50\n"
          ]
        }
      ]
    },
    {
      "cell_type": "code",
      "source": [
        "blog_titles_2567 = soup_2567.find_all('div', class_='bud-day-col')\n",
        "count_2567 = 0\n",
        "for title in blog_titles_2567:\n",
        "    print(title.text)\n",
        "    if str(2567) in title.text:\n",
        "      count_2567 += 1\n",
        "\n",
        "print(count_2567)"
      ],
      "metadata": {
        "id": "mFogpdNFPjd0",
        "outputId": "3aec086b-bfb0-4aca-9096-d392efcc5680",
        "colab": {
          "base_uri": "https://localhost:8080/"
        }
      },
      "execution_count": 58,
      "outputs": [
        {
          "output_type": "stream",
          "name": "stdout",
          "text": [
            "วันพฤหัสบดีที่ 4 มกราคม 2567\n",
            "แรม ๘ ค่ำ เดือนอ้าย(๑) ปีเถาะ\n",
            "\n",
            "วันพุธที่ 10 มกราคม 2567\n",
            "แรม ๑๔ ค่ำ เดือนอ้าย(๑) ปีเถาะ\n",
            "\n",
            "วันพฤหัสบดีที่ 18 มกราคม 2567\n",
            "ขึ้น ๘ ค่ำ เดือนยี่(๒) ปีเถาะ\n",
            "\n",
            "วันพฤหัสบดีที่ 25 มกราคม 2567\n",
            "ขึ้น ๑๕ ค่ำ เดือนยี่(๒) ปีเถาะ\n",
            "\n",
            "วันศุกร์ที่ 2 กุมภาพันธ์ 2567\n",
            "แรม ๘ ค่ำ เดือนยี่(๒) ปีเถาะ\n",
            "\n",
            "วันศุกร์ที่ 9 กุมภาพันธ์ 2567\n",
            "แรม ๑๕ ค่ำ เดือนยี่(๒) ปีเถาะ\n",
            "\n",
            "วันเสาร์ที่ 17 กุมภาพันธ์ 2567\n",
            "ขึ้น ๘ ค่ำ เดือนสาม(๓) ปีเถาะ\n",
            "\n",
            "วันเสาร์ที่ 24 กุมภาพันธ์ 2567\n",
            "ขึ้น ๑๕ ค่ำ เดือนสาม(๓) ปีเถาะ\n",
            "(วันมาฆบูชา)\n",
            "วันอาทิตย์ที่ 3 มีนาคม 2567\n",
            "แรม ๘ ค่ำ เดือนสาม(๓) ปีเถาะ\n",
            "\n",
            "วันเสาร์ที่ 9 มีนาคม 2567\n",
            "แรม ๑๔ ค่ำ เดือนสาม(๓) ปีเถาะ\n",
            "\n",
            "วันอาทิตย์ที่ 17 มีนาคม 2567\n",
            "ขึ้น ๘ ค่ำ เดือนสี่(๔) ปีเถาะ\n",
            "\n",
            "วันอาทิตย์ที่ 24 มีนาคม 2567\n",
            "ขึ้น ๑๕ ค่ำ เดือนสี่(๔) ปีเถาะ\n",
            "\n",
            "วันจันทร์ที่ 1 เมษายน 2567\n",
            "แรม ๘ ค่ำ เดือนสี่(๔) ปีเถาะ\n",
            "\n",
            "วันจันทร์ที่ 8 เมษายน 2567\n",
            "แรม ๑๕ ค่ำ เดือนสี่(๔) ปีเถาะ\n",
            "\n",
            "วันอังคารที่ 16 เมษายน 2567\n",
            "ขึ้น ๘ ค่ำ เดือนห้า(๕) ปีมะโรง\n",
            "\n",
            "วันอังคารที่ 23 เมษายน 2567\n",
            "ขึ้น ๑๕ ค่ำ เดือนห้า(๕) ปีมะโรง\n",
            "\n",
            "วันพุธที่ 1 พฤษภาคม 2567\n",
            "แรม ๘ ค่ำ เดือนห้า(๕) ปีมะโรง\n",
            "(วันแรงงาน)\n",
            "วันอังคารที่ 7 พฤษภาคม 2567\n",
            "แรม ๑๔ ค่ำ เดือนห้า(๕) ปีมะโรง\n",
            "\n",
            "วันพุธที่ 15 พฤษภาคม 2567\n",
            "ขึ้น ๘ ค่ำ เดือนหก(๖) ปีมะโรง\n",
            "\n",
            "วันพุธที่ 22 พฤษภาคม 2567\n",
            "ขึ้น ๑๕ ค่ำ เดือนหก(๖) ปีมะโรง\n",
            "(วันวิสาขบูชา)\n",
            "วันพฤหัสบดีที่ 30 พฤษภาคม 2567\n",
            "แรม ๘ ค่ำ เดือนหก(๖) ปีมะโรง\n",
            "(วันอัฏฐมีบูชา)\n",
            "วันพฤหัสบดีที่ 6 มิถุนายน 2567\n",
            "แรม ๑๕ ค่ำ เดือนหก(๖) ปีมะโรง\n",
            "\n",
            "วันศุกร์ที่ 14 มิถุนายน 2567\n",
            "ขึ้น ๘ ค่ำ เดือนเจ็ด(๗) ปีมะโรง\n",
            "\n",
            "วันศุกร์ที่ 21 มิถุนายน 2567\n",
            "ขึ้น ๑๕ ค่ำ เดือนเจ็ด(๗) ปีมะโรง\n",
            "\n",
            "วันเสาร์ที่ 29 มิถุนายน 2567\n",
            "แรม ๘ ค่ำ เดือนเจ็ด(๗) ปีมะโรง\n",
            "\n",
            "วันศุกร์ที่ 5 กรกฎาคม 2567\n",
            "แรม ๑๔ ค่ำ เดือนเจ็ด(๗) ปีมะโรง\n",
            "\n",
            "วันเสาร์ที่ 13 กรกฎาคม 2567\n",
            "ขึ้น ๘ ค่ำ เดือนแปด(๘) ปีมะโรง\n",
            "\n",
            "วันเสาร์ที่ 20 กรกฎาคม 2567\n",
            "ขึ้น ๑๕ ค่ำ เดือนแปด(๘) ปีมะโรง\n",
            "(วันอาสาฬหบูชา)\n",
            "วันอาทิตย์ที่ 21 กรกฎาคม 2567\n",
            "แรม ๑ ค่ำ เดือนแปด(๘) ปีมะโรง\n",
            "(วันเข้าพรรษา)\n",
            "วันอาทิตย์ที่ 28 กรกฎาคม 2567\n",
            "แรม ๘ ค่ำ เดือนแปด(๘) ปีมะโรง\n",
            "(วันเฉลิมฯ ร.10)\n",
            "วันอาทิตย์ที่ 4 สิงหาคม 2567\n",
            "แรม ๑๕ ค่ำ เดือนแปด(๘) ปีมะโรง\n",
            "\n",
            "วันจันทร์ที่ 12 สิงหาคม 2567\n",
            "ขึ้น ๘ ค่ำ เดือนเก้า(๙) ปีมะโรง\n",
            "(วันเฉลิมฯ วันแม่)\n",
            "วันจันทร์ที่ 19 สิงหาคม 2567\n",
            "ขึ้น ๑๕ ค่ำ เดือนเก้า(๙) ปีมะโรง\n",
            "\n",
            "วันอังคารที่ 27 สิงหาคม 2567\n",
            "แรม ๘ ค่ำ เดือนเก้า(๙) ปีมะโรง\n",
            "\n",
            "วันจันทร์ที่ 2 กันยายน 2567\n",
            "แรม ๑๔ ค่ำ เดือนเก้า(๙) ปีมะโรง\n",
            "\n",
            "วันอังคารที่ 10 กันยายน 2567\n",
            "ขึ้น ๘ ค่ำ เดือนสิบ(๑๐) ปีมะโรง\n",
            "\n",
            "วันอังคารที่ 17 กันยายน 2567\n",
            "ขึ้น ๑๕ ค่ำ เดือนสิบ(๑๐) ปีมะโรง\n",
            "\n",
            "วันพุธที่ 25 กันยายน 2567\n",
            "แรม ๘ ค่ำ เดือนสิบ(๑๐) ปีมะโรง\n",
            "\n",
            "วันพุธที่ 2 ตุลาคม 2567\n",
            "แรม ๑๕ ค่ำ เดือนสิบ(๑๐) ปีมะโรง\n",
            "\n",
            "วันพฤหัสบดีที่ 10 ตุลาคม 2567\n",
            "ขึ้น ๘ ค่ำ เดือนสิบเอ็ด(๑๑) ปีมะโรง\n",
            "\n",
            "วันพฤหัสบดีที่ 17 ตุลาคม 2567\n",
            "ขึ้น ๑๕ ค่ำ เดือนสิบเอ็ด(๑๑) ปีมะโรง\n",
            "(วันออกพรรษา)\n",
            "วันศุกร์ที่ 25 ตุลาคม 2567\n",
            "แรม ๘ ค่ำ เดือนสิบเอ็ด(๑๑) ปีมะโรง\n",
            "\n",
            "วันพฤหัสบดีที่ 31 ตุลาคม 2567\n",
            "แรม ๑๔ ค่ำ เดือนสิบเอ็ด(๑๑) ปีมะโรง\n",
            "\n",
            "วันศุกร์ที่ 8 พฤศจิกายน 2567\n",
            "ขึ้น ๘ ค่ำ เดือนสิบสอง(๑๒) ปีมะโรง\n",
            "\n",
            "วันศุกร์ที่ 15 พฤศจิกายน 2567\n",
            "ขึ้น ๑๕ ค่ำ เดือนสิบสอง(๑๒) ปีมะโรง\n",
            "(วันลอยกระทง)\n",
            "วันเสาร์ที่ 23 พฤศจิกายน 2567\n",
            "แรม ๘ ค่ำ เดือนสิบสอง(๑๒) ปีมะโรง\n",
            "\n",
            "วันเสาร์ที่ 30 พฤศจิกายน 2567\n",
            "แรม ๑๕ ค่ำ เดือนสิบสอง(๑๒) ปีมะโรง\n",
            "\n",
            "วันอาทิตย์ที่ 8 ธันวาคม 2567\n",
            "ขึ้น ๘ ค่ำ เดือนอ้าย(๑) ปีมะโรง\n",
            "\n",
            "วันอาทิตย์ที่ 15 ธันวาคม 2567\n",
            "ขึ้น ๑๕ ค่ำ เดือนอ้าย(๑) ปีมะโรง\n",
            "\n",
            "วันจันทร์ที่ 23 ธันวาคม 2567\n",
            "แรม ๘ ค่ำ เดือนอ้าย(๑) ปีมะโรง\n",
            "\n",
            "วันอาทิตย์ที่ 29 ธันวาคม 2567\n",
            "แรม ๑๔ ค่ำ เดือนอ้าย(๑) ปีมะโรง\n",
            "\n",
            "51\n"
          ]
        }
      ]
    },
    {
      "cell_type": "code",
      "source": [
        "# total per year\n",
        "total = count_2565 + count_2566 + count_2567\n",
        "print(total)"
      ],
      "metadata": {
        "id": "qwhBBIVcP7jc",
        "outputId": "4ccd5f04-0b30-4a1b-e0dc-0446de65217b",
        "colab": {
          "base_uri": "https://localhost:8080/"
        }
      },
      "execution_count": 61,
      "outputs": [
        {
          "output_type": "stream",
          "name": "stdout",
          "text": [
            "152\n"
          ]
        }
      ]
    },
    {
      "cell_type": "markdown",
      "metadata": {
        "id": "Desusek79qno"
      },
      "source": [
        "## How many days in total (of 3 years) that วันพระ is Monday?"
      ]
    },
    {
      "cell_type": "code",
      "execution_count": 66,
      "metadata": {
        "id": "khtpeOaZ9qno",
        "outputId": "15db4eb0-e4e4-49ca-8044-cfb6d6d5c82f",
        "colab": {
          "base_uri": "https://localhost:8080/"
        }
      },
      "outputs": [
        {
          "output_type": "stream",
          "name": "stdout",
          "text": [
            "Monday of 2565 is : \n",
            "7\n"
          ]
        }
      ],
      "source": [
        "blog_titles_2565 = soup_2565.find_all('div', class_='bud-day-col')\n",
        "count_monday_2565 = 0\n",
        "for title in blog_titles_2565:\n",
        "    #print(title.text)\n",
        "    if \"วันจันทร์ที่\" in title.text:\n",
        "      count_monday_2565 += 1\n",
        "print(\"Monday of 2565 is : \")\n",
        "print(count_monday_2565)"
      ]
    },
    {
      "cell_type": "code",
      "source": [
        "blog_titles_2566 = soup_2566.find_all('div', class_='bud-day-col')\n",
        "count_monday_2566 = 0\n",
        "for title in blog_titles_2566:\n",
        "    #print(title.text)\n",
        "    if \"วันจันทร์ที่\" in title.text:\n",
        "      count_monday_2566 += 1\n",
        "print(\"Monday of 2566 is : \")\n",
        "print(count_monday_2566)"
      ],
      "metadata": {
        "id": "L-XWoTJA2_ub",
        "outputId": "4a7ad5c1-4641-469b-a5b9-7ff31d93eff1",
        "colab": {
          "base_uri": "https://localhost:8080/"
        }
      },
      "execution_count": 67,
      "outputs": [
        {
          "output_type": "stream",
          "name": "stdout",
          "text": [
            "Monday of 2566 is : \n",
            "8\n"
          ]
        }
      ]
    },
    {
      "cell_type": "code",
      "source": [
        "blog_titles_2567 = soup_2567.find_all('div', class_='bud-day-col')\n",
        "count_monday_2567 = 0\n",
        "for title in blog_titles_2567:\n",
        "    #print(title.text)\n",
        "    if \"วันจันทร์ที่\" in title.text:\n",
        "      count_monday_2567 += 1\n",
        "print(\"Monday of 2566 is : \")\n",
        "print(count_monday_2567)"
      ],
      "metadata": {
        "id": "lIteLUlh3dg8",
        "outputId": "88b237c2-b059-4ed1-f566-98316243ba9c",
        "colab": {
          "base_uri": "https://localhost:8080/"
        }
      },
      "execution_count": 68,
      "outputs": [
        {
          "output_type": "stream",
          "name": "stdout",
          "text": [
            "Monday of 2566 is : \n",
            "6\n"
          ]
        }
      ]
    },
    {
      "cell_type": "code",
      "source": [
        "total_monday = count_monday_2565 + count_monday_2566 + count_monday_2567\n",
        "print(\"total Monday is \" + str(total_monday))"
      ],
      "metadata": {
        "id": "sH22R_LE3ts6",
        "outputId": "e93f1388-3ba6-47db-c867-4301e48d53a7",
        "colab": {
          "base_uri": "https://localhost:8080/"
        }
      },
      "execution_count": 69,
      "outputs": [
        {
          "output_type": "stream",
          "name": "stdout",
          "text": [
            "total Monday is 21\n"
          ]
        }
      ]
    },
    {
      "cell_type": "markdown",
      "metadata": {
        "id": "JTIazrWK9qno"
      },
      "source": [
        "## Which day of the week that has the minimum number of วันพระ?"
      ]
    },
    {
      "cell_type": "code",
      "source": [
        "day_2565= {\"วันจันทร์ที่\":0,\"วันอังคารที่\":0, \"วันพุธที่\":0, \"วันพฤหัสบดีที่\":0, \"วันศุกร์ที่\":0,\"วันเสาร์ที่\":0,\"วันอาทิตย์ที่\":0}\n",
        "day_2566= {\"วันจันทร์ที่\":0,\"วันอังคารที่\":0, \"วันพุธที่\":0, \"วันพฤหัสบดีที่\":0, \"วันศุกร์ที่\":0,\"วันเสาร์ที่\":0,\"วันอาทิตย์ที่\":0}\n",
        "day_2567 = {\"วันจันทร์ที่\":0,\"วันอังคารที่\":0, \"วันพุธที่\":0, \"วันพฤหัสบดีที่\":0, \"วันศุกร์ที่\":0,\"วันเสาร์ที่\":0,\"วันอาทิตย์ที่\":0}\n",
        "day_total = {\"วันจันทร์ที่\":0,\"วันอังคารที่\":0, \"วันพุธที่\":0, \"วันพฤหัสบดีที่\":0, \"วันศุกร์ที่\":0,\"วันเสาร์ที่\":0,\"วันอาทิตย์ที่\":0}\n"
      ],
      "metadata": {
        "id": "imyEeKGy3cVk"
      },
      "execution_count": 101,
      "outputs": []
    },
    {
      "cell_type": "code",
      "execution_count": 102,
      "metadata": {
        "id": "r4n39TjW9qno",
        "outputId": "25aeed8a-c61e-418d-a55c-a0ba67f66a40",
        "colab": {
          "base_uri": "https://localhost:8080/"
        }
      },
      "outputs": [
        {
          "output_type": "stream",
          "name": "stdout",
          "text": [
            "{'วันจันทร์ที่': 7, 'วันอังคารที่': 8, 'วันพุธที่': 8, 'วันพฤหัสบดีที่': 9, 'วันศุกร์ที่': 7, 'วันเสาร์ที่': 6, 'วันอาทิตย์ที่': 6}\n"
          ]
        }
      ],
      "source": [
        "blog_titles_2565 = soup_2565.find_all('div', class_='bud-day-col')\n",
        "count_monday_2565 = 0\n",
        "for title in blog_titles_2565:\n",
        "    #print(title.text)\n",
        "    for i in day_2565.keys():\n",
        "      if i in title.text:\n",
        "        day_2565[i] += 1\n",
        "print(day_2565)"
      ]
    },
    {
      "cell_type": "code",
      "source": [
        "blog_titles_2566 = soup_2566.find_all('div', class_='bud-day-col')\n",
        "count_monday_2566 = 0\n",
        "for title in blog_titles_2566:\n",
        "    #print(title.text)\n",
        "    for i in day_2566.keys():\n",
        "      if i in title.text:\n",
        "        day_2566[i] += 1\n",
        "print(day_2566)"
      ],
      "metadata": {
        "id": "PYwoEcjDUdFu",
        "outputId": "a07fbc62-b7db-4935-dcd6-ff02ea6a67cb",
        "colab": {
          "base_uri": "https://localhost:8080/"
        }
      },
      "execution_count": 103,
      "outputs": [
        {
          "output_type": "stream",
          "name": "stdout",
          "text": [
            "{'วันจันทร์ที่': 8, 'วันอังคารที่': 6, 'วันพุธที่': 8, 'วันพฤหัสบดีที่': 6, 'วันศุกร์ที่': 6, 'วันเสาร์ที่': 7, 'วันอาทิตย์ที่': 9}\n"
          ]
        }
      ]
    },
    {
      "cell_type": "code",
      "source": [
        "blog_titles_2567 = soup_2567.find_all('div', class_='bud-day-col')\n",
        "count_monday_2567 = 0\n",
        "for title in blog_titles_2567:\n",
        "    #print(title.text)\n",
        "    for i in day_2567.keys():\n",
        "      if i in title.text:\n",
        "        day_2567[i] += 1\n",
        "print(day_2567)"
      ],
      "metadata": {
        "id": "a_UcH52IUdNq",
        "outputId": "42d42914-2e9e-4126-8199-84726a13349b",
        "colab": {
          "base_uri": "https://localhost:8080/"
        }
      },
      "execution_count": 104,
      "outputs": [
        {
          "output_type": "stream",
          "name": "stdout",
          "text": [
            "{'วันจันทร์ที่': 6, 'วันอังคารที่': 6, 'วันพุธที่': 6, 'วันพฤหัสบดีที่': 8, 'วันศุกร์ที่': 8, 'วันเสาร์ที่': 8, 'วันอาทิตย์ที่': 9}\n"
          ]
        }
      ]
    },
    {
      "cell_type": "code",
      "source": [
        "for i in day_total.keys():\n",
        "  day_2565[i]\n",
        "  day_total[i] += day_2565[i]\n",
        "print(day_total)"
      ],
      "metadata": {
        "id": "nezhillVVCFM",
        "outputId": "318329b4-f37d-4d5b-9e1c-32b9cd35b5a3",
        "colab": {
          "base_uri": "https://localhost:8080/"
        }
      },
      "execution_count": 105,
      "outputs": [
        {
          "output_type": "stream",
          "name": "stdout",
          "text": [
            "{'วันจันทร์ที่': 7, 'วันอังคารที่': 8, 'วันพุธที่': 8, 'วันพฤหัสบดีที่': 9, 'วันศุกร์ที่': 7, 'วันเสาร์ที่': 6, 'วันอาทิตย์ที่': 6}\n"
          ]
        }
      ]
    },
    {
      "cell_type": "code",
      "source": [
        "for i in day_total.keys():\n",
        "  day_2566[i]\n",
        "  day_total[i] += day_2566[i]\n",
        "print(day_total)"
      ],
      "metadata": {
        "id": "apFpUEpzWmcn",
        "outputId": "92b4e817-64f1-4751-db9d-182850b59efe",
        "colab": {
          "base_uri": "https://localhost:8080/"
        }
      },
      "execution_count": 106,
      "outputs": [
        {
          "output_type": "stream",
          "name": "stdout",
          "text": [
            "{'วันจันทร์ที่': 15, 'วันอังคารที่': 14, 'วันพุธที่': 16, 'วันพฤหัสบดีที่': 15, 'วันศุกร์ที่': 13, 'วันเสาร์ที่': 13, 'วันอาทิตย์ที่': 15}\n"
          ]
        }
      ]
    },
    {
      "cell_type": "code",
      "source": [
        "for i in day_total.keys():\n",
        "  day_2567[i]\n",
        "  day_total[i] += day_2567[i]\n",
        "print(day_total)"
      ],
      "metadata": {
        "id": "LL4be9hBWw6F",
        "outputId": "290e2183-0648-4333-8002-06688fd58421",
        "colab": {
          "base_uri": "https://localhost:8080/"
        }
      },
      "execution_count": 107,
      "outputs": [
        {
          "output_type": "stream",
          "name": "stdout",
          "text": [
            "{'วันจันทร์ที่': 21, 'วันอังคารที่': 20, 'วันพุธที่': 22, 'วันพฤหัสบดีที่': 23, 'วันศุกร์ที่': 21, 'วันเสาร์ที่': 21, 'วันอาทิตย์ที่': 24}\n"
          ]
        }
      ]
    },
    {
      "cell_type": "code",
      "source": [
        "day_list = []\n",
        "for i in day_total.keys():\n",
        "  day_list.append(day_total[i])\n",
        "print(day_list)\n",
        "\n",
        "\n",
        "print(min(day_total, key=day_total.get))"
      ],
      "metadata": {
        "id": "bj38i2-3W1w-",
        "outputId": "6e5ebd33-b353-4f76-f580-f053dff31776",
        "colab": {
          "base_uri": "https://localhost:8080/"
        }
      },
      "execution_count": 115,
      "outputs": [
        {
          "output_type": "stream",
          "name": "stdout",
          "text": [
            "[21, 20, 22, 23, 21, 21, 24]\n",
            "วันอังคารที่\n"
          ]
        }
      ]
    },
    {
      "cell_type": "code",
      "source": [],
      "metadata": {
        "id": "thG_7vAYX-5O",
        "outputId": "4fc50ba9-c8a2-4365-f553-d7a18346be17",
        "colab": {
          "base_uri": "https://localhost:8080/"
        }
      },
      "execution_count": 111,
      "outputs": [
        {
          "output_type": "stream",
          "name": "stdout",
          "text": [
            "20\n"
          ]
        }
      ]
    },
    {
      "cell_type": "markdown",
      "metadata": {
        "id": "9yRHKxA09qnp"
      },
      "source": [
        "## Which day of the week that has the maximum number of วันพระ?"
      ]
    },
    {
      "cell_type": "code",
      "execution_count": 116,
      "metadata": {
        "id": "2zADI-3i9qnp",
        "outputId": "4f0880f3-e854-4486-9f95-6219c30ff58d",
        "colab": {
          "base_uri": "https://localhost:8080/"
        }
      },
      "outputs": [
        {
          "output_type": "stream",
          "name": "stdout",
          "text": [
            "วันอาทิตย์ที่\n"
          ]
        }
      ],
      "source": [
        "print(max(day_total, key=day_total.get))"
      ]
    },
    {
      "cell_type": "code",
      "execution_count": null,
      "metadata": {
        "id": "KYk34VbM9qnp"
      },
      "outputs": [],
      "source": []
    }
  ],
  "metadata": {
    "kernelspec": {
      "display_name": "Python 3 (ipykernel)",
      "language": "python",
      "name": "python3"
    },
    "language_info": {
      "codemirror_mode": {
        "name": "ipython",
        "version": 3
      },
      "file_extension": ".py",
      "mimetype": "text/x-python",
      "name": "python",
      "nbconvert_exporter": "python",
      "pygments_lexer": "ipython3",
      "version": "3.9.15"
    },
    "toc": {
      "base_numbering": 1,
      "nav_menu": {},
      "number_sections": true,
      "sideBar": true,
      "skip_h1_title": false,
      "title_cell": "Table of Contents",
      "title_sidebar": "Contents",
      "toc_cell": false,
      "toc_position": {},
      "toc_section_display": true,
      "toc_window_display": false
    },
    "varInspector": {
      "cols": {
        "lenName": 16,
        "lenType": 16,
        "lenVar": 40
      },
      "kernels_config": {
        "python": {
          "delete_cmd_postfix": "",
          "delete_cmd_prefix": "del ",
          "library": "var_list.py",
          "varRefreshCmd": "print(var_dic_list())"
        },
        "r": {
          "delete_cmd_postfix": ") ",
          "delete_cmd_prefix": "rm(",
          "library": "var_list.r",
          "varRefreshCmd": "cat(var_dic_list()) "
        }
      },
      "types_to_exclude": [
        "module",
        "function",
        "builtin_function_or_method",
        "instance",
        "_Feature"
      ],
      "window_display": false
    },
    "colab": {
      "provenance": []
    }
  },
  "nbformat": 4,
  "nbformat_minor": 0
}