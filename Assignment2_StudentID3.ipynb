{
  "cells": [
    {
      "cell_type": "markdown",
      "metadata": {
        "id": "vegEY-lHEkSi"
      },
      "source": [
        "#![Spark Logo](http://spark-mooc.github.io/web-assets/images/ta_Spark-logo-small.png) + ![Python Logo](http://spark-mooc.github.io/web-assets/images/python-logo-master-v3-TM-flattened_small.png)\n",
        "# **Word Count Lab: Building a word count application**\n",
        "#### This lab will build on the techniques covered in the Spark tutorial to develop a simple word count application.  The volume of unstructured text in existence is growing dramatically, and Spark is an excellent tool for analyzing this type of data.  In this lab, we will write code that calculates the most common words in the [Complete Works of William Shakespeare](http://www.gutenberg.org/ebooks/100) retrieved from [Project Gutenberg](http://www.gutenberg.org/wiki/Main_Page).  This could also be scaled to find the most common words on the Internet.\n",
        "#### ** During this lab we will cover: **\n",
        "#### *Part 1:* Creating a base RDD and pair RDDs\n",
        "#### *Part 2:* Counting with pair RDDs\n",
        "#### *Part 3:* Finding unique words and a mean value\n",
        "#### *Part 4:* Apply word count to a file\n",
        "#### Note that, for reference, you can look up the details of the relevant methods in [Spark's Python API](https://spark.apache.org/docs/latest/api/python/pyspark.html#pyspark.RDD)"
      ]
    },
    {
      "cell_type": "code",
      "source": [
        "%cd '/content'"
      ],
      "metadata": {
        "id": "9lBpZjSzprIg",
        "colab": {
          "base_uri": "https://localhost:8080/"
        },
        "outputId": "cd3dfa12-62f0-416d-e770-2747383c415b"
      },
      "execution_count": 2,
      "outputs": [
        {
          "output_type": "stream",
          "name": "stdout",
          "text": [
            "/content\n"
          ]
        }
      ]
    },
    {
      "cell_type": "code",
      "source": [
        "!mkdir test_helper\n",
        "%cd 'test_helper'\n",
        "\n",
        "!mkdir init\n",
        "!mkdir test_helper\n",
        "!wget https://raw.githubusercontent.com/Walkisible/Big_Data_Analytics/main/test_helper/MANIFEST.in\n",
        "!wget https://raw.githubusercontent.com/Walkisible/Big_Data_Analytics/main/test_helper/README.md\n",
        "!wget https://raw.githubusercontent.com/Walkisible/Big_Data_Analytics/main/test_helper/setup.cfg\n",
        "!wget https://raw.githubusercontent.com/Walkisible/Big_Data_Analytics/main/test_helper/setup.py\n",
        "%cd 'test_helper'\n",
        "\n",
        "!wget https://raw.githubusercontent.com/Walkisible/Big_Data_Analytics/main/test_helper/test_helper/test_helper.py\n",
        "import test_helper\n",
        "\n",
        "%cd ..\n",
        "\n",
        "%cd 'init'\n",
        "!wget https://raw.githubusercontent.com/Walkisible/Big_Data_Analytics/main/test_helper/init/__init__.py\n",
        "%cd '/content'"
      ],
      "metadata": {
        "id": "P8KWlM52pr31",
        "colab": {
          "base_uri": "https://localhost:8080/"
        },
        "outputId": "8f1807bf-e29d-44fb-9d71-55935d30ff29"
      },
      "execution_count": 3,
      "outputs": [
        {
          "output_type": "stream",
          "name": "stdout",
          "text": [
            "/content/test_helper\n",
            "--2024-01-20 14:16:23--  https://raw.githubusercontent.com/Walkisible/Big_Data_Analytics/main/test_helper/MANIFEST.in\n",
            "Resolving raw.githubusercontent.com (raw.githubusercontent.com)... 185.199.111.133, 185.199.109.133, 185.199.110.133, ...\n",
            "Connecting to raw.githubusercontent.com (raw.githubusercontent.com)|185.199.111.133|:443... connected.\n",
            "HTTP request sent, awaiting response... 200 OK\n",
            "Length: 65 [text/plain]\n",
            "Saving to: ‘MANIFEST.in’\n",
            "\n",
            "MANIFEST.in         100%[===================>]      65  --.-KB/s    in 0s      \n",
            "\n",
            "2024-01-20 14:16:23 (2.81 MB/s) - ‘MANIFEST.in’ saved [65/65]\n",
            "\n",
            "--2024-01-20 14:16:23--  https://raw.githubusercontent.com/Walkisible/Big_Data_Analytics/main/test_helper/README.md\n",
            "Resolving raw.githubusercontent.com (raw.githubusercontent.com)... 185.199.109.133, 185.199.111.133, 185.199.108.133, ...\n",
            "Connecting to raw.githubusercontent.com (raw.githubusercontent.com)|185.199.109.133|:443... connected.\n",
            "HTTP request sent, awaiting response... 200 OK\n",
            "Length: 295 [text/plain]\n",
            "Saving to: ‘README.md’\n",
            "\n",
            "README.md           100%[===================>]     295  --.-KB/s    in 0s      \n",
            "\n",
            "2024-01-20 14:16:23 (10.6 MB/s) - ‘README.md’ saved [295/295]\n",
            "\n",
            "--2024-01-20 14:16:23--  https://raw.githubusercontent.com/Walkisible/Big_Data_Analytics/main/test_helper/setup.cfg\n",
            "Resolving raw.githubusercontent.com (raw.githubusercontent.com)... 185.199.109.133, 185.199.111.133, 185.199.108.133, ...\n",
            "Connecting to raw.githubusercontent.com (raw.githubusercontent.com)|185.199.109.133|:443... connected.\n",
            "HTTP request sent, awaiting response... 200 OK\n",
            "Length: 40 [text/plain]\n",
            "Saving to: ‘setup.cfg’\n",
            "\n",
            "setup.cfg           100%[===================>]      40  --.-KB/s    in 0s      \n",
            "\n",
            "2024-01-20 14:16:23 (3.59 MB/s) - ‘setup.cfg’ saved [40/40]\n",
            "\n",
            "--2024-01-20 14:16:23--  https://raw.githubusercontent.com/Walkisible/Big_Data_Analytics/main/test_helper/setup.py\n",
            "Resolving raw.githubusercontent.com (raw.githubusercontent.com)... 185.199.110.133, 185.199.111.133, 185.199.108.133, ...\n",
            "Connecting to raw.githubusercontent.com (raw.githubusercontent.com)|185.199.110.133|:443... connected.\n",
            "HTTP request sent, awaiting response... 200 OK\n",
            "Length: 519 [text/plain]\n",
            "Saving to: ‘setup.py’\n",
            "\n",
            "setup.py            100%[===================>]     519  --.-KB/s    in 0s      \n",
            "\n",
            "2024-01-20 14:16:24 (10.1 MB/s) - ‘setup.py’ saved [519/519]\n",
            "\n",
            "/content/test_helper/test_helper\n",
            "--2024-01-20 14:16:24--  https://raw.githubusercontent.com/Walkisible/Big_Data_Analytics/main/test_helper/test_helper/test_helper.py\n",
            "Resolving raw.githubusercontent.com (raw.githubusercontent.com)... 185.199.108.133, 185.199.109.133, 185.199.110.133, ...\n",
            "Connecting to raw.githubusercontent.com (raw.githubusercontent.com)|185.199.108.133|:443... connected.\n",
            "HTTP request sent, awaiting response... 200 OK\n",
            "Length: 30093 (29K) [text/plain]\n",
            "Saving to: ‘test_helper.py’\n",
            "\n",
            "test_helper.py      100%[===================>]  29.39K  --.-KB/s    in 0.003s  \n",
            "\n",
            "2024-01-20 14:16:24 (11.4 MB/s) - ‘test_helper.py’ saved [30093/30093]\n",
            "\n",
            "/content/test_helper\n",
            "/content/test_helper/init\n",
            "--2024-01-20 14:16:26--  https://raw.githubusercontent.com/Walkisible/Big_Data_Analytics/main/test_helper/init/__init__.py\n",
            "Resolving raw.githubusercontent.com (raw.githubusercontent.com)... 185.199.109.133, 185.199.111.133, 185.199.108.133, ...\n",
            "Connecting to raw.githubusercontent.com (raw.githubusercontent.com)|185.199.109.133|:443... connected.\n",
            "HTTP request sent, awaiting response... 200 OK\n",
            "Length: 29 [text/plain]\n",
            "Saving to: ‘__init__.py’\n",
            "\n",
            "__init__.py         100%[===================>]      29  --.-KB/s    in 0s      \n",
            "\n",
            "2024-01-20 14:16:26 (2.21 MB/s) - ‘__init__.py’ saved [29/29]\n",
            "\n",
            "/content\n"
          ]
        }
      ]
    },
    {
      "cell_type": "code",
      "source": [
        "'''\n",
        "Spark installation source code\n",
        "\n",
        "* Disclaimer: Spark is frequently updated their version, when Spark is updated,\n",
        "              some line cannot be executed.\n",
        "\n",
        "              To fix this, change the Saprk to the latest version and try to again\n",
        "\n",
        "Tutorial: https://github.com/Walkisible/Big_Data_Analytics/blob/main/Spark_install.py\n",
        "'''\n",
        "\n",
        "# check for upgradable packages\n",
        "!apt update\n",
        "\n",
        "# install java\n",
        "!apt-get install openjdk-11-jdk-headless -qq > /dev/null\n",
        "\n",
        "!wget -q https://dlcdn.apache.org/spark/spark-3.5.0/spark-3.5.0-bin-hadoop3.tgz\n",
        "\n",
        "# unzip the spark file to the current folder\n",
        "!tar -xf spark-3.5.0-bin-hadoop3.tgz\n",
        "\n",
        "# to remove Spark.tgz file\n",
        "!rm -rf spark-3.5.0-bin-hadoop3.tgz\n",
        "\n",
        "# install findspark using pip\n",
        "!pip install -q findspark\n",
        "!pip install -q pyspark\n",
        "\n",
        "# set your spark folder to your system path environment.\n",
        "import os\n",
        "os.environ[\"JAVA_HOME\"] = \"/usr/lib/jvm/java-11-openjdk-amd64\"\n",
        "os.environ[\"SPARK_HOME\"] = \"/content/spark-3.5.0-bin-hadoop3\"\n",
        "\n",
        "# create SparkContext\n",
        "from pyspark import SparkContext\n",
        "import findspark\n",
        "\n",
        "findspark.init()\n",
        "sc = SparkContext.getOrCreate()\n",
        "sc"
      ],
      "metadata": {
        "colab": {
          "base_uri": "https://localhost:8080/",
          "height": 644
        },
        "id": "PodBCe8qEz_p",
        "outputId": "eff77148-6b3b-469a-f3be-eb56746a9a63"
      },
      "execution_count": 4,
      "outputs": [
        {
          "output_type": "stream",
          "name": "stdout",
          "text": [
            "\u001b[33m\r0% [Working]\u001b[0m\r            \rGet:1 https://cloud.r-project.org/bin/linux/ubuntu jammy-cran40/ InRelease [3,626 B]\n",
            "\u001b[33m\r0% [Connecting to archive.ubuntu.com] [Waiting for headers] [1 InRelease 0 B/3,626 B 0%] [Connecting\u001b[0m\u001b[33m\r0% [Connecting to archive.ubuntu.com] [Waiting for headers] [Connecting to ppa.launchpadcontent.net \u001b[0m\r                                                                                                    \rGet:2 https://developer.download.nvidia.com/compute/cuda/repos/ubuntu2204/x86_64  InRelease [1,581 B]\n",
            "Get:3 http://security.ubuntu.com/ubuntu jammy-security InRelease [110 kB]\n",
            "Get:4 https://developer.download.nvidia.com/compute/cuda/repos/ubuntu2204/x86_64  Packages [662 kB]\n",
            "Hit:5 http://archive.ubuntu.com/ubuntu jammy InRelease\n",
            "Get:6 http://security.ubuntu.com/ubuntu jammy-security/universe amd64 Packages [1,056 kB]\n",
            "Get:7 http://archive.ubuntu.com/ubuntu jammy-updates InRelease [119 kB]\n",
            "Hit:8 https://ppa.launchpadcontent.net/c2d4u.team/c2d4u4.0+/ubuntu jammy InRelease\n",
            "Hit:9 https://ppa.launchpadcontent.net/deadsnakes/ppa/ubuntu jammy InRelease\n",
            "Hit:10 https://ppa.launchpadcontent.net/graphics-drivers/ppa/ubuntu jammy InRelease\n",
            "Hit:11 https://ppa.launchpadcontent.net/ubuntugis/ppa/ubuntu jammy InRelease\n",
            "Get:12 http://archive.ubuntu.com/ubuntu jammy-backports InRelease [109 kB]\n",
            "Get:13 http://archive.ubuntu.com/ubuntu jammy-updates/main amd64 Packages [1,624 kB]\n",
            "Get:14 http://archive.ubuntu.com/ubuntu jammy-updates/universe amd64 Packages [1,321 kB]\n",
            "Get:15 http://archive.ubuntu.com/ubuntu jammy-backports/universe amd64 Packages [28.1 kB]\n",
            "Get:16 http://archive.ubuntu.com/ubuntu jammy-backports/main amd64 Packages [50.4 kB]\n",
            "Fetched 5,084 kB in 2s (2,313 kB/s)\n",
            "Reading package lists... Done\n",
            "Building dependency tree... Done\n",
            "Reading state information... Done\n",
            "32 packages can be upgraded. Run 'apt list --upgradable' to see them.\n",
            "\u001b[2K     \u001b[90m━━━━━━━━━━━━━━━━━━━━━━━━━━━━━━━━━━━━━━━━\u001b[0m \u001b[32m316.9/316.9 MB\u001b[0m \u001b[31m2.8 MB/s\u001b[0m eta \u001b[36m0:00:00\u001b[0m\n",
            "\u001b[?25h  Preparing metadata (setup.py) ... \u001b[?25l\u001b[?25hdone\n",
            "  Building wheel for pyspark (setup.py) ... \u001b[?25l\u001b[?25hdone\n"
          ]
        },
        {
          "output_type": "execute_result",
          "data": {
            "text/plain": [
              "<SparkContext master=local[*] appName=pyspark-shell>"
            ],
            "text/html": [
              "\n",
              "        <div>\n",
              "            <p><b>SparkContext</b></p>\n",
              "\n",
              "            <p><a href=\"http://11f5bea95224:4040\">Spark UI</a></p>\n",
              "\n",
              "            <dl>\n",
              "              <dt>Version</dt>\n",
              "                <dd><code>v3.5.0</code></dd>\n",
              "              <dt>Master</dt>\n",
              "                <dd><code>local[*]</code></dd>\n",
              "              <dt>AppName</dt>\n",
              "                <dd><code>pyspark-shell</code></dd>\n",
              "            </dl>\n",
              "        </div>\n",
              "        "
            ]
          },
          "metadata": {},
          "execution_count": 4
        }
      ]
    },
    {
      "cell_type": "code",
      "execution_count": 5,
      "metadata": {
        "id": "dQd22wYxybvX"
      },
      "outputs": [],
      "source": [
        "# import lib tools\n",
        "import numpy as np\n",
        "import pandas as pd"
      ]
    },
    {
      "cell_type": "markdown",
      "metadata": {
        "id": "f7XBzIruEkSl"
      },
      "source": [
        "### ** Part 1: Creating a base RDD and pair RDDs **"
      ]
    },
    {
      "cell_type": "markdown",
      "metadata": {
        "id": "a1bkhF6vEkSm"
      },
      "source": [
        "#### In this part of the lab, we will explore creating a base RDD with `parallelize` and using pair RDDs to count words."
      ]
    },
    {
      "cell_type": "code",
      "source": [
        "'''\n",
        "Spark installation source code\n",
        "\n",
        "* Disclaimer: Spark is frequently updated their version, when Spark is updated,\n",
        "              some line cannot be executed.\n",
        "\n",
        "              To fix this, change the Saprk to the latest version and try to again\n",
        "\n",
        "Tutorial: https://github.com/Walkisible/Big_Data_Analytics/blob/main/Spark_install.py\n",
        "'''\n",
        "\n",
        "<FILL IN>"
      ],
      "metadata": {
        "id": "lLgKZjyqqB4c",
        "colab": {
          "base_uri": "https://localhost:8080/",
          "height": 143
        },
        "outputId": "d1f205d3-fe32-4adb-dbcc-1a967833ffa0"
      },
      "execution_count": 6,
      "outputs": [
        {
          "output_type": "error",
          "ename": "SyntaxError",
          "evalue": "invalid syntax (<ipython-input-6-e498c9c419c1>, line 12)",
          "traceback": [
            "\u001b[0;36m  File \u001b[0;32m\"<ipython-input-6-e498c9c419c1>\"\u001b[0;36m, line \u001b[0;32m12\u001b[0m\n\u001b[0;31m    <FILL IN>\u001b[0m\n\u001b[0m    ^\u001b[0m\n\u001b[0;31mSyntaxError\u001b[0m\u001b[0;31m:\u001b[0m invalid syntax\n"
          ]
        }
      ]
    },
    {
      "cell_type": "markdown",
      "metadata": {
        "id": "40tIC4ECEkSm"
      },
      "source": [
        "#### ** (1a) Create a base RDD **\n",
        "#### We'll start by generating a base RDD by using a Python list and the `sc.parallelize` method.  Then we'll print out the type of the base RDD."
      ]
    },
    {
      "cell_type": "code",
      "execution_count": 7,
      "metadata": {
        "id": "P5wNNx0tEkSn",
        "colab": {
          "base_uri": "https://localhost:8080/"
        },
        "outputId": "d2bd6e61-0a1f-41ea-d2c5-510a9423b7ee"
      },
      "outputs": [
        {
          "output_type": "stream",
          "name": "stdout",
          "text": [
            "<class 'pyspark.rdd.RDD'>\n"
          ]
        }
      ],
      "source": [
        "wordsList = ['cat', 'elephant', 'rat', 'rat', 'cat']\n",
        "wordsRDD = sc.parallelize(wordsList, 4)\n",
        "# Print out the type of wordsRDD\n",
        "print(type(wordsRDD))"
      ]
    },
    {
      "cell_type": "markdown",
      "metadata": {
        "id": "cHXXj4ZNEkSo"
      },
      "source": [
        "#### ** (1b) Pluralize and test **\n",
        "#### Let's use a `map()` transformation to add the letter 's' to each string in the base RDD we just created. We'll define a Python function that returns the word with an 's' at the end of the word.  Please replace `<FILL IN>` with your solution.  If you have trouble, the next cell has the solution.  After you have defined `makePlural` you can run the third cell which contains a test.  If you implementation is correct it will print `1 test passed`.\n",
        "#### This is the general form that exercises will take, except that no example solution will be provided.  Exercises will include an explanation of what is expected, followed by code cells where one cell will have one or more `<FILL IN>` sections.  The cell that needs to be modified will have `# TODO: Replace <FILL IN> with appropriate code` on its first line.  Once the `<FILL IN>` sections are updated and the code is run, the test cell can then be run to verify the correctness of your solution.  The last code cell before the next markdown section will contain the tests."
      ]
    },
    {
      "cell_type": "code",
      "execution_count": 8,
      "metadata": {
        "id": "yO5Zlr2wEkSo",
        "colab": {
          "base_uri": "https://localhost:8080/"
        },
        "outputId": "05e8e8bc-2156-415b-ed7b-c2fbfc801511"
      },
      "outputs": [
        {
          "output_type": "stream",
          "name": "stdout",
          "text": [
            "cats\n"
          ]
        }
      ],
      "source": [
        "# TODO: Replace <FILL IN> with appropriate code\n",
        "def makePlural(word):\n",
        "    \"\"\"Adds an 's' to `word`.\n",
        "\n",
        "    Note:\n",
        "        This is a simple function that only adds an 's'.  No attempt is made to follow proper\n",
        "        pluralization rules.\n",
        "\n",
        "    Args:\n",
        "        word (str): A string.\n",
        "\n",
        "    Returns:\n",
        "        str: A string with 's' added to it.\n",
        "    \"\"\"\n",
        "    return word + \"s\"\n",
        "\n",
        "print(makePlural(\"cat\"))"
      ]
    },
    {
      "cell_type": "code",
      "execution_count": 9,
      "metadata": {
        "id": "53ARmZVOEkSp",
        "colab": {
          "base_uri": "https://localhost:8080/"
        },
        "outputId": "d3575376-a814-482b-e950-39ee344d4836"
      },
      "outputs": [
        {
          "output_type": "stream",
          "name": "stdout",
          "text": [
            "cats\n"
          ]
        }
      ],
      "source": [
        "# One way of completing the function\n",
        "def makePlural(word):\n",
        "    return word + 's'\n",
        "\n",
        "print(makePlural('cat'))"
      ]
    },
    {
      "cell_type": "code",
      "execution_count": 10,
      "metadata": {
        "id": "JF5pVIv6EkSp",
        "colab": {
          "base_uri": "https://localhost:8080/"
        },
        "outputId": "edb457ef-35af-45e2-ecd2-2de14ab7930c"
      },
      "outputs": [
        {
          "output_type": "stream",
          "name": "stdout",
          "text": [
            "1 test passed. \n"
          ]
        }
      ],
      "source": [
        "# Load in the testing code and check to see if your answer is correct\n",
        "# If incorrect it will report back '1 test failed' for each failed test\n",
        "# Make sure to rerun any cell you change before trying the test again\n",
        "from test_helper import Test\n",
        "# TEST Pluralize and test (1b)\n",
        "Test.assertEquals(makePlural('rat'), 'rats', 'incorrect result: makePlural does not add an s')"
      ]
    },
    {
      "cell_type": "markdown",
      "metadata": {
        "id": "pCBnfuvsEkSq"
      },
      "source": [
        "#### ** (1c) Apply `makePlural` to the base RDD **\n",
        "#### Now pass each item in the base RDD into a [map()](http://spark.apache.org/docs/latest/api/python/pyspark.html#pyspark.RDD.map) transformation that applies the `makePlural()` function to each element. And then call the [collect()](http://spark.apache.org/docs/latest/api/python/pyspark.html#pyspark.RDD.collect) action to see the transformed RDD."
      ]
    },
    {
      "cell_type": "code",
      "execution_count": 11,
      "metadata": {
        "id": "R_vSuIMpEkSq",
        "colab": {
          "base_uri": "https://localhost:8080/"
        },
        "outputId": "0a6d9bd4-764a-4c06-a96d-6e597dc38e55"
      },
      "outputs": [
        {
          "output_type": "stream",
          "name": "stdout",
          "text": [
            "['cats', 'elephants', 'rats', 'rats', 'cats']\n"
          ]
        }
      ],
      "source": [
        "# TODO: Replace <FILL IN> with appropriate code\n",
        "pluralRDD = wordsRDD.map(makePlural)\n",
        "print(pluralRDD.collect())"
      ]
    },
    {
      "cell_type": "code",
      "execution_count": 12,
      "metadata": {
        "id": "si07aEb5EkSq",
        "colab": {
          "base_uri": "https://localhost:8080/"
        },
        "outputId": "44e789c9-a118-4dfb-b0f2-66f58d32c057"
      },
      "outputs": [
        {
          "output_type": "stream",
          "name": "stdout",
          "text": [
            "1 test passed. \n"
          ]
        }
      ],
      "source": [
        "# TEST Apply makePlural to the base RDD(1c)\n",
        "Test.assertEquals(pluralRDD.collect(), ['cats', 'elephants', 'rats', 'rats', 'cats'],\n",
        "                  'incorrect values for pluralRDD')"
      ]
    },
    {
      "cell_type": "markdown",
      "metadata": {
        "id": "32Okbg8hEkSr"
      },
      "source": [
        "#### ** (1d) Pass a `lambda` function to `map` **\n",
        "#### Let's create the same RDD using a `lambda` function."
      ]
    },
    {
      "cell_type": "code",
      "execution_count": 13,
      "metadata": {
        "id": "15N3FjIQEkSr",
        "colab": {
          "base_uri": "https://localhost:8080/"
        },
        "outputId": "0ab8fb36-faff-46d7-948a-546c1c6e9520"
      },
      "outputs": [
        {
          "output_type": "stream",
          "name": "stdout",
          "text": [
            "['cats', 'elephants', 'rats', 'rats', 'cats']\n"
          ]
        }
      ],
      "source": [
        "# TODO: Replace <FILL IN> with appropriate code\n",
        "pluralLambdaRDD = wordsRDD.map(lambda x : x + 's')\n",
        "print(pluralLambdaRDD.collect())"
      ]
    },
    {
      "cell_type": "code",
      "execution_count": 14,
      "metadata": {
        "id": "_MNIA_bnEkSr",
        "colab": {
          "base_uri": "https://localhost:8080/"
        },
        "outputId": "6a5a350a-0e57-40ec-d019-06cfb67a7785"
      },
      "outputs": [
        {
          "output_type": "stream",
          "name": "stdout",
          "text": [
            "1 test passed. \n"
          ]
        }
      ],
      "source": [
        "# TEST Pass a lambda function to map (1d)\n",
        "Test.assertEquals(pluralLambdaRDD.collect(), ['cats', 'elephants', 'rats', 'rats', 'cats'],\n",
        "                  'incorrect values for pluralLambdaRDD (1d)')"
      ]
    },
    {
      "cell_type": "markdown",
      "metadata": {
        "id": "glMUPI7aEkSs"
      },
      "source": [
        "#### ** (1e) Length of each word **\n",
        "#### Now use `map()` and a `lambda` function to return the number of characters in each word.  We'll `collect` this result directly into a variable."
      ]
    },
    {
      "cell_type": "code",
      "execution_count": 15,
      "metadata": {
        "id": "xAq4dO8YEkSs",
        "colab": {
          "base_uri": "https://localhost:8080/"
        },
        "outputId": "42470e5c-f3b4-47cf-f3cb-dce50e63231e"
      },
      "outputs": [
        {
          "output_type": "stream",
          "name": "stdout",
          "text": [
            "[4, 9, 4, 4, 4]\n"
          ]
        }
      ],
      "source": [
        "# TODO: Replace <FILL IN> with appropriate code\n",
        "pluralLengths = (pluralRDD\n",
        "                 .map(lambda x : len(x))\n",
        "                 .collect())\n",
        "print(pluralLengths)"
      ]
    },
    {
      "cell_type": "code",
      "execution_count": 16,
      "metadata": {
        "id": "gzMNaNwVEkSs",
        "colab": {
          "base_uri": "https://localhost:8080/"
        },
        "outputId": "736863f8-0b39-4a9d-baab-af1cabccfbfb"
      },
      "outputs": [
        {
          "output_type": "stream",
          "name": "stdout",
          "text": [
            "1 test passed. \n"
          ]
        }
      ],
      "source": [
        "# TEST Length of each word (1e)\n",
        "Test.assertEquals(pluralLengths, [4, 9, 4, 4, 4],\n",
        "                  'incorrect values for pluralLengths')"
      ]
    },
    {
      "cell_type": "markdown",
      "metadata": {
        "id": "oiiKeOtjEkSt"
      },
      "source": [
        "#### ** (1f) Pair RDDs **\n",
        "#### The next step in writing our word counting program is to create a new type of RDD, called a pair RDD. A pair RDD is an RDD where each element is a pair tuple `(k, v)` where `k` is the key and `v` is the value. In this example, we will create a pair consisting of `('<word>', 1)` for each word element in the RDD.\n",
        "#### We can create the pair RDD using the `map()` transformation with a `lambda()` function to create a new RDD."
      ]
    },
    {
      "cell_type": "code",
      "execution_count": 17,
      "metadata": {
        "id": "w82j2IzzEkSt",
        "colab": {
          "base_uri": "https://localhost:8080/"
        },
        "outputId": "ce222929-54d6-40d2-f6d5-5303627e9fff"
      },
      "outputs": [
        {
          "output_type": "stream",
          "name": "stdout",
          "text": [
            "[('cat', 1), ('elephant', 1), ('rat', 1), ('rat', 1), ('cat', 1)]\n"
          ]
        }
      ],
      "source": [
        "# TODO: Replace <FILL IN> with appropriate code\n",
        "wordPairs = wordsRDD.map(lambda x : (x,1))\n",
        "print(wordPairs.collect())"
      ]
    },
    {
      "cell_type": "code",
      "execution_count": 18,
      "metadata": {
        "id": "gYFZfXDhEkSt",
        "colab": {
          "base_uri": "https://localhost:8080/"
        },
        "outputId": "51de0ed5-b333-45a5-c104-e31964565b67"
      },
      "outputs": [
        {
          "output_type": "stream",
          "name": "stdout",
          "text": [
            "1 test passed. \n"
          ]
        }
      ],
      "source": [
        "# TEST Pair RDDs (1f)\n",
        "Test.assertEquals(wordPairs.collect(),\n",
        "                  [('cat', 1), ('elephant', 1), ('rat', 1), ('rat', 1), ('cat', 1)],\n",
        "                  'incorrect value for wordPairs')"
      ]
    },
    {
      "cell_type": "markdown",
      "metadata": {
        "id": "Q-doFdRKEkSu"
      },
      "source": [
        "### ** Part 2: Counting with pair RDDs **"
      ]
    },
    {
      "cell_type": "markdown",
      "metadata": {
        "id": "UAvUqBvGEkSu"
      },
      "source": [
        "#### Now, let's count the number of times a particular word appears in the RDD. There are multiple ways to perform the counting, but some are much less efficient than others.\n",
        "#### A naive approach would be to `collect()` all of the elements and count them in the driver program. While this approach could work for small datasets, we want an approach that will work for any size dataset including terabyte- or petabyte-sized datasets. In addition, performing all of the work in the driver program is slower than performing it in parallel in the workers. For these reasons, we will use data parallel operations."
      ]
    },
    {
      "cell_type": "markdown",
      "metadata": {
        "id": "eVTBKDboEkSu"
      },
      "source": [
        "#### ** (2a) `groupByKey()` approach **\n",
        "#### An approach you might first consider (we'll see shortly that there are better ways) is based on using the [groupByKey()](http://spark.apache.org/docs/latest/api/python/pyspark.html#pyspark.RDD.groupByKey) transformation. As the name implies, the `groupByKey()` transformation groups all the elements of the RDD with the same key into a single list in one of the partitions. There are two problems with using `groupByKey()`:\n",
        "  + #### The operation requires a lot of data movement to move all the values into the appropriate partitions.\n",
        "  + #### The lists can be very large. Consider a word count of English Wikipedia: the lists for common words (e.g., the, a, etc.) would be huge and could exhaust the available memory in a worker.\n",
        "\n",
        "#### Use `groupByKey()` to generate a pair RDD of type `('word', iterator)`."
      ]
    },
    {
      "cell_type": "code",
      "execution_count": 19,
      "metadata": {
        "id": "ATrFanN3EkSv",
        "colab": {
          "base_uri": "https://localhost:8080/"
        },
        "outputId": "1849a2a1-b704-4077-a025-fdc5393eecc9"
      },
      "outputs": [
        {
          "output_type": "stream",
          "name": "stdout",
          "text": [
            "cat: [1, 1]\n",
            "elephant: [1]\n",
            "rat: [1, 1]\n"
          ]
        }
      ],
      "source": [
        "# TODO: Replace <FILL IN> with appropriate code\n",
        "# Note that groupByKey requires no parameters\n",
        "wordsGrouped = wordPairs.groupByKey().mapValues(lambda x:list(x))\n",
        "for key, value in wordsGrouped.collect():\n",
        "    print('{0}: {1}'.format(key, list(value)))"
      ]
    },
    {
      "cell_type": "code",
      "execution_count": 20,
      "metadata": {
        "id": "kzIrEhFAEkSw",
        "colab": {
          "base_uri": "https://localhost:8080/"
        },
        "outputId": "a76e3b15-360f-4a95-e843-09d249563ba4"
      },
      "outputs": [
        {
          "output_type": "stream",
          "name": "stdout",
          "text": [
            "1 test passed. \n"
          ]
        }
      ],
      "source": [
        "# TEST groupByKey() approach (2a)\n",
        "Test.assertEquals(sorted(wordsGrouped.mapValues(lambda x: list(x)).collect()),\n",
        "                  [('cat', [1, 1]), ('elephant', [1]), ('rat', [1, 1])],\n",
        "                  'incorrect value for wordsGrouped')"
      ]
    },
    {
      "cell_type": "markdown",
      "metadata": {
        "id": "ANmToCz-EkSw"
      },
      "source": [
        "#### ** (2b) Use `groupByKey()` to obtain the counts **\n",
        "#### Using the `groupByKey()` transformation creates an RDD containing 3 elements, each of which is a pair of a word and a Python iterator.\n",
        "#### Now sum the iterator using a `map()` transformation.  The result should be a pair RDD consisting of (word, count) pairs."
      ]
    },
    {
      "cell_type": "code",
      "execution_count": 21,
      "metadata": {
        "id": "k-Zf-61KEkSx",
        "colab": {
          "base_uri": "https://localhost:8080/"
        },
        "outputId": "f7e585de-ed0f-4ad7-e09a-3c139b34bb62"
      },
      "outputs": [
        {
          "output_type": "stream",
          "name": "stdout",
          "text": [
            "[('cat', 2), ('elephant', 1), ('rat', 2)]\n"
          ]
        }
      ],
      "source": [
        "# TODO: Replace <FILL IN> with appropriate code\n",
        "wordCountsGrouped = wordsGrouped.mapValues(lambda x: sum(x))\n",
        "print(wordCountsGrouped.collect())"
      ]
    },
    {
      "cell_type": "code",
      "execution_count": 22,
      "metadata": {
        "id": "_HnZnsXWEkSx",
        "colab": {
          "base_uri": "https://localhost:8080/"
        },
        "outputId": "b1dc7fa6-19c5-4a86-ee4d-b90fc4cc4338"
      },
      "outputs": [
        {
          "output_type": "stream",
          "name": "stdout",
          "text": [
            "1 test passed. \n"
          ]
        }
      ],
      "source": [
        "# TEST Use groupByKey() to obtain the counts (2b)\n",
        "Test.assertEquals(sorted(wordCountsGrouped.collect()),\n",
        "                  [('cat', 2), ('elephant', 1), ('rat', 2)],\n",
        "                  'incorrect value for wordCountsGrouped')"
      ]
    },
    {
      "cell_type": "markdown",
      "metadata": {
        "id": "NBqsPezrEkSx"
      },
      "source": [
        "#### ** (2c) Counting using `reduceByKey` **\n",
        "#### A better approach is to start from the pair RDD and then use the [reduceByKey()](http://spark.apache.org/docs/latest/api/python/pyspark.html#pyspark.RDD.reduceByKey) transformation to create a new pair RDD. The `reduceByKey()` transformation gathers together pairs that have the same key and applies the function provided to two values at a time, iteratively reducing all of the values to a single value. `reduceByKey()` operates by applying the function first within each partition on a per-key basis and then across the partitions, allowing it to scale efficiently to large datasets."
      ]
    },
    {
      "cell_type": "code",
      "execution_count": 24,
      "metadata": {
        "id": "o2aBCSBLEkSy",
        "colab": {
          "base_uri": "https://localhost:8080/"
        },
        "outputId": "617da76f-5953-47cf-e395-aabaf11de2bc"
      },
      "outputs": [
        {
          "output_type": "stream",
          "name": "stdout",
          "text": [
            "[('cat', 2), ('elephant', 1), ('rat', 2)]\n"
          ]
        }
      ],
      "source": [
        "# TODO: Replace <FILL IN> with appropriate code\n",
        "# Note that reduceByKey takes in a function that accepts two values and returns a single value\n",
        "from operator import add\n",
        "wordCounts = wordPairs.reduceByKey(add)\n",
        "print(wordCounts.collect())"
      ]
    },
    {
      "cell_type": "code",
      "execution_count": 25,
      "metadata": {
        "id": "p_hWNX9AEkSy",
        "colab": {
          "base_uri": "https://localhost:8080/"
        },
        "outputId": "9934496f-b88d-4b52-8219-43ce5de7fd28"
      },
      "outputs": [
        {
          "output_type": "stream",
          "name": "stdout",
          "text": [
            "1 test passed. \n"
          ]
        }
      ],
      "source": [
        "# TEST Counting using reduceByKey (2c)\n",
        "Test.assertEquals(sorted(wordCounts.collect()), [('cat', 2), ('elephant', 1), ('rat', 2)],\n",
        "                  'incorrect value for wordCounts')"
      ]
    },
    {
      "cell_type": "markdown",
      "metadata": {
        "id": "YuIfm175EkSy"
      },
      "source": [
        "#### ** (2d) All together **\n",
        "#### The expert version of the code performs the `map()` to pair RDD, `reduceByKey()` transformation, and `collect` in one statement."
      ]
    },
    {
      "cell_type": "code",
      "execution_count": 27,
      "metadata": {
        "id": "vXj0wBymEkSy",
        "colab": {
          "base_uri": "https://localhost:8080/"
        },
        "outputId": "ee80a828-73b3-448b-b0ed-66c1b9ad4286"
      },
      "outputs": [
        {
          "output_type": "stream",
          "name": "stdout",
          "text": [
            "[('cat', 2), ('elephant', 1), ('rat', 2)]\n"
          ]
        }
      ],
      "source": [
        "# TODO: Replace <FILL IN> with appropriate code\n",
        "wordCountsCollected = (wordsRDD\n",
        "                       .map(lambda x : (x,1))\n",
        "                       .reduceByKey(add)\n",
        "                       .collect())\n",
        "print(wordCountsCollected)"
      ]
    },
    {
      "cell_type": "code",
      "execution_count": 28,
      "metadata": {
        "id": "urQHRK1YEkSz",
        "colab": {
          "base_uri": "https://localhost:8080/"
        },
        "outputId": "63eef161-ed38-4786-8fee-b78236551ab6"
      },
      "outputs": [
        {
          "output_type": "stream",
          "name": "stdout",
          "text": [
            "1 test passed. \n"
          ]
        }
      ],
      "source": [
        "# TEST All together (2d)\n",
        "Test.assertEquals(sorted(wordCountsCollected), [('cat', 2), ('elephant', 1), ('rat', 2)],\n",
        "                  'incorrect value for wordCountsCollected')"
      ]
    },
    {
      "cell_type": "markdown",
      "metadata": {
        "id": "QSw-9RGWEkSz"
      },
      "source": [
        "### ** Part 3: Finding unique words and a mean value **"
      ]
    },
    {
      "cell_type": "markdown",
      "metadata": {
        "id": "bxzEnACxEkSz"
      },
      "source": [
        "#### ** (3a) Unique words **\n",
        "#### Calculate the number of unique words in `wordsRDD`.  You can use other RDDs that you have already created to make this easier."
      ]
    },
    {
      "cell_type": "code",
      "execution_count": 30,
      "metadata": {
        "id": "NZB3E3xWEkSz",
        "colab": {
          "base_uri": "https://localhost:8080/"
        },
        "outputId": "8fdbad6a-42d7-4e64-fc26-131cd483679d"
      },
      "outputs": [
        {
          "output_type": "stream",
          "name": "stdout",
          "text": [
            "3\n"
          ]
        }
      ],
      "source": [
        "# TODO: Replace <FILL IN> with appropriate code\n",
        "uniqueWords = wordsRDD.distinct().count()\n",
        "print(uniqueWords)"
      ]
    },
    {
      "cell_type": "code",
      "execution_count": 31,
      "metadata": {
        "id": "cL4cJftdEkS0",
        "colab": {
          "base_uri": "https://localhost:8080/"
        },
        "outputId": "364de4a3-54f9-4541-a5fa-a22a0c400a31"
      },
      "outputs": [
        {
          "output_type": "stream",
          "name": "stdout",
          "text": [
            "1 test passed. \n"
          ]
        }
      ],
      "source": [
        "# TEST Unique words (3a)\n",
        "Test.assertEquals(uniqueWords, 3, 'incorrect count of uniqueWords')"
      ]
    },
    {
      "cell_type": "markdown",
      "metadata": {
        "id": "uzL9kGIBEkS0"
      },
      "source": [
        "#### ** (3b) Mean using `reduce` **\n",
        "#### Find the mean number of words per unique word in `wordCounts`.\n",
        "#### Use a `reduce()` action to sum the counts in `wordCounts` and then divide by the number of unique words.  First `map()` the pair RDD `wordCounts`, which consists of (key, value) pairs, to an RDD of values."
      ]
    },
    {
      "cell_type": "code",
      "execution_count": null,
      "metadata": {
        "id": "I9bnCx1hEkS0"
      },
      "outputs": [],
      "source": [
        "# TODO: Replace <FILL IN> with appropriate code\n",
        "from operator import add\n",
        "totalCount = (wordCounts\n",
        "              .map(<FILL IN>)\n",
        "              .reduce(<FILL IN>))\n",
        "average = totalCount / float(<FILL IN>)\n",
        "print(totalCount)\n",
        "print(round(average, 2))"
      ]
    },
    {
      "cell_type": "code",
      "execution_count": null,
      "metadata": {
        "id": "nkuRv1naEkS0"
      },
      "outputs": [],
      "source": [
        "# TEST Mean using reduce (3b)\n",
        "Test.assertEquals(round(average, 2), 1.67, 'incorrect value of average')"
      ]
    },
    {
      "cell_type": "markdown",
      "metadata": {
        "id": "JPAaJy65EkS1"
      },
      "source": [
        "### ** Part 4: Apply word count to a file **"
      ]
    },
    {
      "cell_type": "markdown",
      "metadata": {
        "id": "45ZIS5X-EkS1"
      },
      "source": [
        "#### In this section we will finish developing our word count application.  We'll have to build the `wordCount` function, deal with real world problems like capitalization and punctuation, load in our data source, and compute the word count on the new data."
      ]
    },
    {
      "cell_type": "markdown",
      "metadata": {
        "id": "KZ1PbwSLEkS1"
      },
      "source": [
        "#### ** (4a) `wordCount` function **\n",
        "#### First, define a function for word counting.  You should reuse the techniques that have been covered in earlier parts of this lab.  This function should take in an RDD that is a list of words like `wordsRDD` and return a pair RDD that has all of the words and their associated counts."
      ]
    },
    {
      "cell_type": "code",
      "execution_count": null,
      "metadata": {
        "id": "CWm9qxbwEkS1"
      },
      "outputs": [],
      "source": [
        "# TODO: Replace <FILL IN> with appropriate code\n",
        "def wordCount(wordListRDD):\n",
        "    \"\"\"Creates a pair RDD with word counts from an RDD of words.\n",
        "\n",
        "    Args:\n",
        "        wordListRDD (RDD of str): An RDD consisting of words.\n",
        "\n",
        "    Returns:\n",
        "        RDD of (str, int): An RDD consisting of (word, count) tuples.\n",
        "    \"\"\"\n",
        "    <FILL IN>\n",
        "print(wordCount(wordsRDD).collect())"
      ]
    },
    {
      "cell_type": "code",
      "execution_count": null,
      "metadata": {
        "id": "pNRDAUVLEkS2"
      },
      "outputs": [],
      "source": [
        "# TEST wordCount function (4a)\n",
        "Test.assertEquals(sorted(wordCount(wordsRDD).collect()),\n",
        "                  [('cat', 2), ('elephant', 1), ('rat', 2)],\n",
        "                  'incorrect definition for wordCount function')"
      ]
    },
    {
      "cell_type": "markdown",
      "metadata": {
        "id": "wv83EErDEkS2"
      },
      "source": [
        "#### ** (4b) Capitalization and punctuation **\n",
        "#### Real world files are more complicated than the data we have been using in this lab. Some of the issues we have to address are:\n",
        "  + #### Words should be counted independent of their capitialization (e.g., Spark and spark should be counted as the same word).\n",
        "  + #### All punctuation should be removed.\n",
        "  + #### Any leading or trailing spaces on a line should be removed.\n",
        "\n",
        "#### Define the function `removePunctuation` that converts all text to lower case, removes any punctuation, and removes leading and trailing spaces.  Use the Python [re](https://docs.python.org/2/library/re.html) module to remove any text that is not a letter, number, or space. Reading `help(re.sub)` might be useful."
      ]
    },
    {
      "cell_type": "code",
      "execution_count": null,
      "metadata": {
        "id": "pLEYFr8nEkS2"
      },
      "outputs": [],
      "source": [
        "# TODO: Replace <FILL IN> with appropriate code\n",
        "import re\n",
        "def removePunctuation(text):\n",
        "    \"\"\"Removes punctuation, changes to lower case, and strips leading and trailing spaces.\n",
        "\n",
        "    Note:\n",
        "        Only spaces, letters, and numbers should be retained.  Other characters should should be\n",
        "        eliminated (e.g. it's becomes its).  Leading and trailing spaces should be removed after\n",
        "        punctuation is removed.\n",
        "\n",
        "    Args:\n",
        "        text (str): A string.\n",
        "\n",
        "    Returns:\n",
        "        str: The cleaned up string.\n",
        "    \"\"\"\n",
        "    <FILL IN>\n",
        "\n",
        "print(removePunctuation('Hi, you!'))\n",
        "print(removePunctuation(' No under_score!'))"
      ]
    },
    {
      "cell_type": "code",
      "execution_count": null,
      "metadata": {
        "id": "3gquC183EkS2"
      },
      "outputs": [],
      "source": [
        "# TEST Capitalization and punctuation (4b)\n",
        "Test.assertEquals(removePunctuation(\" The Elephant's 4 cats. \"),\n",
        "                  'the elephants 4 cats',\n",
        "                  'incorrect definition for removePunctuation function')"
      ]
    },
    {
      "cell_type": "markdown",
      "metadata": {
        "id": "xERfdZHtEkS2"
      },
      "source": [
        "#### ** (4c) Load a text file **\n",
        "#### For the next part of this lab, we will use the [Complete Works of William Shakespeare](http://www.gutenberg.org/ebooks/100) from [Project Gutenberg](http://www.gutenberg.org/wiki/Main_Page). To convert a text file into an RDD, we use the `SparkContext.textFile()` method. We also apply the recently defined `removePunctuation()` function using a `map()` transformation to strip out the punctuation and change all text to lowercase.  Since the file is large we use `take(15)`, so that we only print 15 lines."
      ]
    },
    {
      "cell_type": "code",
      "execution_count": null,
      "metadata": {
        "id": "XXV4im1buXFq"
      },
      "outputs": [],
      "source": [
        "# Print RDD function, optional way to print out text RDD\n",
        "def printRDD(data,num):\n",
        "    for line in data.take(num):\n",
        "        print(line)"
      ]
    },
    {
      "cell_type": "code",
      "source": [
        "# download data\n",
        "!mkdir data\n",
        "%cd 'data'\n",
        "!wget https://github.com/Walkisible/Big_Data_Analytics/raw/main/dataset/shakespeare.txt\n",
        "%cd '/content'"
      ],
      "metadata": {
        "id": "dt2uK4skqJqH"
      },
      "execution_count": null,
      "outputs": []
    },
    {
      "cell_type": "code",
      "execution_count": null,
      "metadata": {
        "id": "Go_T-ZB7EkS3"
      },
      "outputs": [],
      "source": [
        "# Just run this code\n",
        "shakespeareRDD = (sc\n",
        "                  .textFile(\"/content/data/shakespeare.txt\", 8)\n",
        "                  .map(removePunctuation))\n",
        "\n",
        "# Use alternative function to print out text in RDD, compatible for spark 3.X +\n",
        "printRDD(shakespeareRDD, 15)\n",
        "\n",
        "#print('\\n'.join(shakespeareRDD\n",
        "                #.zipWithIndex()  # to (line, lineNum)\n",
        "                #.flatMap(lambda num, l : '{0}: {1}'.format(num, l))  # to 'lineNum: line'\n",
        "                #.take(15)))"
      ]
    },
    {
      "cell_type": "markdown",
      "metadata": {
        "id": "Np50cajQEkS3"
      },
      "source": [
        "#### ** (4d) Words from lines **\n",
        "#### Before we can use the `wordcount()` function, we have to address two issues with the format of the RDD:\n",
        "  + #### The first issue is that  that we need to split each line by its spaces.\n",
        "  + #### The second issue is we need to filter out empty lines.\n",
        "\n",
        "#### Apply a transformation that will split each element of the RDD by its spaces. For each element of the RDD, you should apply Python's string [split()](https://docs.python.org/2/library/string.html#string.split) function. You might think that a `map()` transformation is the way to do this, but think about what the result of the `split()` function will be."
      ]
    },
    {
      "cell_type": "code",
      "execution_count": null,
      "metadata": {
        "id": "QnUuZLXfEkS3"
      },
      "outputs": [],
      "source": [
        "# TODO: Replace <FILL IN> with appropriate code\n",
        "shakespeareWordsRDD = shakespeareRDD.<FILL IN>\n",
        "shakespeareWordCount = shakespeareWordsRDD.count()\n",
        "print(shakespeareWordsRDD.top(5))\n",
        "print(shakespeareWordCount)"
      ]
    },
    {
      "cell_type": "code",
      "execution_count": null,
      "metadata": {
        "id": "ZFlwD53uEkS3"
      },
      "outputs": [],
      "source": [
        "# TEST Words from lines (4d)\n",
        "# This test allows for leading spaces to be removed either before or after\n",
        "# punctuation is removed.\n",
        "Test.assertTrue(shakespeareWordCount == 927631 or shakespeareWordCount == 928908,\n",
        "                'incorrect value for shakespeareWordCount')\n",
        "Test.assertEquals(shakespeareWordsRDD.top(5),\n",
        "                  [u'zwaggerd', u'zounds', u'zounds', u'zounds', u'zounds'],\n",
        "                  'incorrect value for shakespeareWordsRDD')"
      ]
    },
    {
      "cell_type": "markdown",
      "metadata": {
        "id": "WpQsJS-cEkS4"
      },
      "source": [
        "#### ** (4e) Remove empty elements **\n",
        "#### The next step is to filter out the empty elements.  Remove all entries where the word is `''`."
      ]
    },
    {
      "cell_type": "code",
      "execution_count": null,
      "metadata": {
        "id": "RLaU2GnGEkS4"
      },
      "outputs": [],
      "source": [
        "# TODO: Replace <FILL IN> with appropriate code\n",
        "shakeWordsRDD = shakespeareWordsRDD.<FILL IN>\n",
        "shakeWordCount = shakeWordsRDD.count()\n",
        "print(shakeWordCount)"
      ]
    },
    {
      "cell_type": "code",
      "execution_count": null,
      "metadata": {
        "id": "_X3TLgQzEkS4"
      },
      "outputs": [],
      "source": [
        "# TEST Remove empty elements (4e)\n",
        "Test.assertEquals(shakeWordCount, 882996, 'incorrect value for shakeWordCount')"
      ]
    },
    {
      "cell_type": "markdown",
      "metadata": {
        "id": "5_4D96JQEkS4"
      },
      "source": [
        "#### ** (4f) Count the words **\n",
        "#### We now have an RDD that is only words.  Next, let's apply the `wordCount()` function to produce a list of word counts. We can view the top 15 words by using the `takeOrdered()` action; however, since the elements of the RDD are pairs, we need a custom sort function that sorts using the value part of the pair.\n",
        "#### You'll notice that many of the words are common English words. These are called stopwords. In a later lab, we will see how to eliminate them from the results.\n",
        "#### Use the `wordCount()` function and `takeOrdered()` to obtain the fifteen most common words and their counts."
      ]
    },
    {
      "cell_type": "code",
      "execution_count": null,
      "metadata": {
        "id": "whtGuf4CEkS4"
      },
      "outputs": [],
      "source": [
        "# TODO: Replace <FILL IN> with appropriate code\n",
        "top15WordsAndCounts = <FILL IN>\n",
        "print('\\n'.join(map(lambda w : '{0}'.format(w), top15WordsAndCounts)))"
      ]
    },
    {
      "cell_type": "code",
      "execution_count": null,
      "metadata": {
        "id": "tNQ_aMsXEkS5"
      },
      "outputs": [],
      "source": [
        "# TEST Count the words (4f)\n",
        "Test.assertEquals(top15WordsAndCounts,\n",
        "                  [(u'the', 27361), (u'and', 26028), (u'i', 20681), (u'to', 19150), (u'of', 17463),\n",
        "                   (u'a', 14593), (u'you', 13615), (u'my', 12481), (u'in', 10956), (u'that', 10890),\n",
        "                   (u'is', 9134), (u'not', 8497), (u'with', 7771), (u'me', 7769), (u'it', 7678)],\n",
        "                  'incorrect value for top15WordsAndCounts')"
      ]
    },
    {
      "cell_type": "markdown",
      "source": [
        "## Part 5: clean your workspace"
      ],
      "metadata": {
        "id": "IDqeeN43qd14"
      }
    },
    {
      "cell_type": "code",
      "source": [
        "# Remove test_helper\n",
        "!rm -r test_helper\n",
        "\n",
        "# Remove Spark folder\n",
        "!rm -rf spark-3.4.0-bin-hadoop3\n",
        "\n",
        "# Remove data\n",
        "!rm -r data"
      ],
      "metadata": {
        "id": "nf-hgt0IqcCG"
      },
      "execution_count": null,
      "outputs": []
    },
    {
      "cell_type": "code",
      "source": [
        "!ls"
      ],
      "metadata": {
        "id": "-megQp7QqkDA"
      },
      "execution_count": null,
      "outputs": []
    }
  ],
  "metadata": {
    "colab": {
      "collapsed_sections": [
        "UAvUqBvGEkSu"
      ],
      "provenance": []
    },
    "kernelspec": {
      "display_name": "Python 3",
      "name": "python3"
    },
    "language_info": {
      "name": "python"
    }
  },
  "nbformat": 4,
  "nbformat_minor": 0
}