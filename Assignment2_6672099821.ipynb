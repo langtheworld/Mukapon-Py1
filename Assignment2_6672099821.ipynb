{
  "cells": [
    {
      "cell_type": "markdown",
      "metadata": {
        "id": "vegEY-lHEkSi"
      },
      "source": [
        "#![Spark Logo](http://spark-mooc.github.io/web-assets/images/ta_Spark-logo-small.png) + ![Python Logo](http://spark-mooc.github.io/web-assets/images/python-logo-master-v3-TM-flattened_small.png)\n",
        "# **Word Count Lab: Building a word count application**\n",
        "#### This lab will build on the techniques covered in the Spark tutorial to develop a simple word count application.  The volume of unstructured text in existence is growing dramatically, and Spark is an excellent tool for analyzing this type of data.  In this lab, we will write code that calculates the most common words in the [Complete Works of William Shakespeare](http://www.gutenberg.org/ebooks/100) retrieved from [Project Gutenberg](http://www.gutenberg.org/wiki/Main_Page).  This could also be scaled to find the most common words on the Internet.\n",
        "#### ** During this lab we will cover: **\n",
        "#### *Part 1:* Creating a base RDD and pair RDDs\n",
        "#### *Part 2:* Counting with pair RDDs\n",
        "#### *Part 3:* Finding unique words and a mean value\n",
        "#### *Part 4:* Apply word count to a file\n",
        "#### Note that, for reference, you can look up the details of the relevant methods in [Spark's Python API](https://spark.apache.org/docs/latest/api/python/pyspark.html#pyspark.RDD)"
      ]
    },
    {
      "cell_type": "code",
      "source": [
        "%cd '/content'"
      ],
      "metadata": {
        "id": "9lBpZjSzprIg",
        "colab": {
          "base_uri": "https://localhost:8080/"
        },
        "outputId": "effa9cf1-efaf-4c7d-855e-5a55fe36b4af"
      },
      "execution_count": 1,
      "outputs": [
        {
          "output_type": "stream",
          "name": "stdout",
          "text": [
            "/content\n"
          ]
        }
      ]
    },
    {
      "cell_type": "code",
      "source": [
        "!mkdir test_helper\n",
        "%cd 'test_helper'\n",
        "\n",
        "!mkdir init\n",
        "!mkdir test_helper\n",
        "!wget https://raw.githubusercontent.com/Walkisible/Big_Data_Analytics/main/test_helper/MANIFEST.in\n",
        "!wget https://raw.githubusercontent.com/Walkisible/Big_Data_Analytics/main/test_helper/README.md\n",
        "!wget https://raw.githubusercontent.com/Walkisible/Big_Data_Analytics/main/test_helper/setup.cfg\n",
        "!wget https://raw.githubusercontent.com/Walkisible/Big_Data_Analytics/main/test_helper/setup.py\n",
        "%cd 'test_helper'\n",
        "\n",
        "!wget https://raw.githubusercontent.com/Walkisible/Big_Data_Analytics/main/test_helper/test_helper/test_helper.py\n",
        "import test_helper\n",
        "\n",
        "%cd ..\n",
        "\n",
        "%cd 'init'\n",
        "!wget https://raw.githubusercontent.com/Walkisible/Big_Data_Analytics/main/test_helper/init/__init__.py\n",
        "%cd '/content'"
      ],
      "metadata": {
        "id": "P8KWlM52pr31",
        "colab": {
          "base_uri": "https://localhost:8080/"
        },
        "outputId": "ac47bd43-f6e0-47ec-ad2b-434b831842fa"
      },
      "execution_count": 2,
      "outputs": [
        {
          "output_type": "stream",
          "name": "stdout",
          "text": [
            "/content/test_helper\n",
            "--2024-01-25 11:42:30--  https://raw.githubusercontent.com/Walkisible/Big_Data_Analytics/main/test_helper/MANIFEST.in\n",
            "Resolving raw.githubusercontent.com (raw.githubusercontent.com)... 185.199.108.133, 185.199.109.133, 185.199.110.133, ...\n",
            "Connecting to raw.githubusercontent.com (raw.githubusercontent.com)|185.199.108.133|:443... connected.\n",
            "HTTP request sent, awaiting response... 200 OK\n",
            "Length: 65 [text/plain]\n",
            "Saving to: ‘MANIFEST.in’\n",
            "\n",
            "MANIFEST.in         100%[===================>]      65  --.-KB/s    in 0s      \n",
            "\n",
            "2024-01-25 11:42:30 (3.77 MB/s) - ‘MANIFEST.in’ saved [65/65]\n",
            "\n",
            "--2024-01-25 11:42:30--  https://raw.githubusercontent.com/Walkisible/Big_Data_Analytics/main/test_helper/README.md\n",
            "Resolving raw.githubusercontent.com (raw.githubusercontent.com)... 185.199.108.133, 185.199.109.133, 185.199.110.133, ...\n",
            "Connecting to raw.githubusercontent.com (raw.githubusercontent.com)|185.199.108.133|:443... connected.\n",
            "HTTP request sent, awaiting response... 200 OK\n",
            "Length: 295 [text/plain]\n",
            "Saving to: ‘README.md’\n",
            "\n",
            "README.md           100%[===================>]     295  --.-KB/s    in 0s      \n",
            "\n",
            "2024-01-25 11:42:30 (15.2 MB/s) - ‘README.md’ saved [295/295]\n",
            "\n",
            "--2024-01-25 11:42:31--  https://raw.githubusercontent.com/Walkisible/Big_Data_Analytics/main/test_helper/setup.cfg\n",
            "Resolving raw.githubusercontent.com (raw.githubusercontent.com)... 185.199.109.133, 185.199.110.133, 185.199.108.133, ...\n",
            "Connecting to raw.githubusercontent.com (raw.githubusercontent.com)|185.199.109.133|:443... connected.\n",
            "HTTP request sent, awaiting response... 200 OK\n",
            "Length: 40 [text/plain]\n",
            "Saving to: ‘setup.cfg’\n",
            "\n",
            "setup.cfg           100%[===================>]      40  --.-KB/s    in 0s      \n",
            "\n",
            "2024-01-25 11:42:31 (2.17 MB/s) - ‘setup.cfg’ saved [40/40]\n",
            "\n",
            "--2024-01-25 11:42:31--  https://raw.githubusercontent.com/Walkisible/Big_Data_Analytics/main/test_helper/setup.py\n",
            "Resolving raw.githubusercontent.com (raw.githubusercontent.com)... 185.199.108.133, 185.199.109.133, 185.199.110.133, ...\n",
            "Connecting to raw.githubusercontent.com (raw.githubusercontent.com)|185.199.108.133|:443... connected.\n",
            "HTTP request sent, awaiting response... 200 OK\n",
            "Length: 519 [text/plain]\n",
            "Saving to: ‘setup.py’\n",
            "\n",
            "setup.py            100%[===================>]     519  --.-KB/s    in 0s      \n",
            "\n",
            "2024-01-25 11:42:31 (32.8 MB/s) - ‘setup.py’ saved [519/519]\n",
            "\n",
            "/content/test_helper/test_helper\n",
            "--2024-01-25 11:42:31--  https://raw.githubusercontent.com/Walkisible/Big_Data_Analytics/main/test_helper/test_helper/test_helper.py\n",
            "Resolving raw.githubusercontent.com (raw.githubusercontent.com)... 185.199.111.133, 185.199.109.133, 185.199.108.133, ...\n",
            "Connecting to raw.githubusercontent.com (raw.githubusercontent.com)|185.199.111.133|:443... connected.\n",
            "HTTP request sent, awaiting response... 200 OK\n",
            "Length: 30093 (29K) [text/plain]\n",
            "Saving to: ‘test_helper.py’\n",
            "\n",
            "test_helper.py      100%[===================>]  29.39K  --.-KB/s    in 0.002s  \n",
            "\n",
            "2024-01-25 11:42:31 (11.6 MB/s) - ‘test_helper.py’ saved [30093/30093]\n",
            "\n",
            "/content/test_helper\n",
            "/content/test_helper/init\n",
            "--2024-01-25 11:42:34--  https://raw.githubusercontent.com/Walkisible/Big_Data_Analytics/main/test_helper/init/__init__.py\n",
            "Resolving raw.githubusercontent.com (raw.githubusercontent.com)... 185.199.109.133, 185.199.111.133, 185.199.110.133, ...\n",
            "Connecting to raw.githubusercontent.com (raw.githubusercontent.com)|185.199.109.133|:443... connected.\n",
            "HTTP request sent, awaiting response... 200 OK\n",
            "Length: 29 [text/plain]\n",
            "Saving to: ‘__init__.py’\n",
            "\n",
            "__init__.py         100%[===================>]      29  --.-KB/s    in 0s      \n",
            "\n",
            "2024-01-25 11:42:34 (1.27 MB/s) - ‘__init__.py’ saved [29/29]\n",
            "\n",
            "/content\n"
          ]
        }
      ]
    },
    {
      "cell_type": "code",
      "source": [
        "'''\n",
        "Spark installation source code\n",
        "\n",
        "* Disclaimer: Spark is frequently updated their version, when Spark is updated,\n",
        "              some line cannot be executed.\n",
        "\n",
        "              To fix this, change the Saprk to the latest version and try to again\n",
        "\n",
        "Tutorial: https://github.com/Walkisible/Big_Data_Analytics/blob/main/Spark_install.py\n",
        "'''\n",
        "\n",
        "# check for upgradable packages\n",
        "!apt update\n",
        "\n",
        "# install java\n",
        "!apt-get install openjdk-11-jdk-headless -qq > /dev/null\n",
        "\n",
        "!wget -q https://dlcdn.apache.org/spark/spark-3.5.0/spark-3.5.0-bin-hadoop3.tgz\n",
        "\n",
        "# unzip the spark file to the current folder\n",
        "!tar -xf spark-3.5.0-bin-hadoop3.tgz\n",
        "\n",
        "# to remove Spark.tgz file\n",
        "!rm -rf spark-3.5.0-bin-hadoop3.tgz\n",
        "\n",
        "# install findspark using pip\n",
        "!pip install -q findspark\n",
        "!pip install -q pyspark\n",
        "\n",
        "# set your spark folder to your system path environment.\n",
        "import os\n",
        "os.environ[\"JAVA_HOME\"] = \"/usr/lib/jvm/java-11-openjdk-amd64\"\n",
        "os.environ[\"SPARK_HOME\"] = \"/content/spark-3.5.0-bin-hadoop3\"\n",
        "\n",
        "# create SparkContext\n",
        "from pyspark import SparkContext\n",
        "import findspark\n",
        "\n",
        "findspark.init()\n",
        "sc = SparkContext.getOrCreate()\n",
        "sc"
      ],
      "metadata": {
        "colab": {
          "base_uri": "https://localhost:8080/",
          "height": 677
        },
        "id": "PodBCe8qEz_p",
        "outputId": "069f753c-ff88-4f4b-aac0-c615634707bf"
      },
      "execution_count": 3,
      "outputs": [
        {
          "output_type": "stream",
          "name": "stdout",
          "text": [
            "\u001b[33m\r0% [Working]\u001b[0m\r            \rHit:1 http://archive.ubuntu.com/ubuntu jammy InRelease\n",
            "\u001b[33m\r0% [Waiting for headers] [Connecting to cloud.r-project.org (108.157.162.110)] [Connecting to ppa.la\u001b[0m\r                                                                                                    \rGet:2 http://archive.ubuntu.com/ubuntu jammy-updates InRelease [119 kB]\n",
            "\r                                                                                                    \rGet:3 http://security.ubuntu.com/ubuntu jammy-security InRelease [110 kB]\n",
            "\r                                                                                                    \rGet:4 https://developer.download.nvidia.com/compute/cuda/repos/ubuntu2204/x86_64  InRelease [1,581 B]\n",
            "Get:5 https://cloud.r-project.org/bin/linux/ubuntu jammy-cran40/ InRelease [3,626 B]\n",
            "Hit:6 http://archive.ubuntu.com/ubuntu jammy-backports InRelease\n",
            "Get:7 https://developer.download.nvidia.com/compute/cuda/repos/ubuntu2204/x86_64  Packages [664 kB]\n",
            "Get:8 https://ppa.launchpadcontent.net/c2d4u.team/c2d4u4.0+/ubuntu jammy InRelease [18.1 kB]\n",
            "Get:9 https://ppa.launchpadcontent.net/deadsnakes/ppa/ubuntu jammy InRelease [18.1 kB]\n",
            "Hit:10 https://ppa.launchpadcontent.net/graphics-drivers/ppa/ubuntu jammy InRelease\n",
            "Hit:11 https://ppa.launchpadcontent.net/ubuntugis/ppa/ubuntu jammy InRelease\n",
            "Get:12 http://security.ubuntu.com/ubuntu jammy-security/main amd64 Packages [1,346 kB]\n",
            "Get:13 http://archive.ubuntu.com/ubuntu jammy-updates/multiverse amd64 Packages [50.4 kB]\n",
            "Get:14 http://archive.ubuntu.com/ubuntu jammy-updates/universe amd64 Packages [1,322 kB]\n",
            "Get:15 http://archive.ubuntu.com/ubuntu jammy-updates/restricted amd64 Packages [1,709 kB]\n",
            "Get:16 http://archive.ubuntu.com/ubuntu jammy-updates/main amd64 Packages [1,667 kB]\n",
            "Get:17 https://ppa.launchpadcontent.net/c2d4u.team/c2d4u4.0+/ubuntu jammy/main Sources [2,264 kB]\n",
            "Get:18 https://ppa.launchpadcontent.net/c2d4u.team/c2d4u4.0+/ubuntu jammy/main amd64 Packages [1,162 kB]\n",
            "Get:19 https://ppa.launchpadcontent.net/deadsnakes/ppa/ubuntu jammy/main amd64 Packages [28.2 kB]\n",
            "Fetched 10.5 MB in 3s (3,899 kB/s)\n",
            "Reading package lists... Done\n",
            "Building dependency tree... Done\n",
            "Reading state information... Done\n",
            "41 packages can be upgraded. Run 'apt list --upgradable' to see them.\n",
            "\u001b[2K     \u001b[90m━━━━━━━━━━━━━━━━━━━━━━━━━━━━━━━━━━━━━━━━\u001b[0m \u001b[32m316.9/316.9 MB\u001b[0m \u001b[31m2.6 MB/s\u001b[0m eta \u001b[36m0:00:00\u001b[0m\n",
            "\u001b[?25h  Preparing metadata (setup.py) ... \u001b[?25l\u001b[?25hdone\n",
            "  Building wheel for pyspark (setup.py) ... \u001b[?25l\u001b[?25hdone\n"
          ]
        },
        {
          "output_type": "execute_result",
          "data": {
            "text/plain": [
              "<SparkContext master=local[*] appName=pyspark-shell>"
            ],
            "text/html": [
              "\n",
              "        <div>\n",
              "            <p><b>SparkContext</b></p>\n",
              "\n",
              "            <p><a href=\"http://4ccd38c35876:4040\">Spark UI</a></p>\n",
              "\n",
              "            <dl>\n",
              "              <dt>Version</dt>\n",
              "                <dd><code>v3.5.0</code></dd>\n",
              "              <dt>Master</dt>\n",
              "                <dd><code>local[*]</code></dd>\n",
              "              <dt>AppName</dt>\n",
              "                <dd><code>pyspark-shell</code></dd>\n",
              "            </dl>\n",
              "        </div>\n",
              "        "
            ]
          },
          "metadata": {},
          "execution_count": 3
        }
      ]
    },
    {
      "cell_type": "code",
      "execution_count": 4,
      "metadata": {
        "id": "dQd22wYxybvX"
      },
      "outputs": [],
      "source": [
        "# import lib tools\n",
        "import numpy as np\n",
        "import pandas as pd"
      ]
    },
    {
      "cell_type": "markdown",
      "metadata": {
        "id": "f7XBzIruEkSl"
      },
      "source": [
        "### ** Part 1: Creating a base RDD and pair RDDs **"
      ]
    },
    {
      "cell_type": "markdown",
      "metadata": {
        "id": "a1bkhF6vEkSm"
      },
      "source": [
        "#### In this part of the lab, we will explore creating a base RDD with `parallelize` and using pair RDDs to count words."
      ]
    },
    {
      "cell_type": "code",
      "source": [
        "'''\n",
        "Spark installation source code\n",
        "\n",
        "* Disclaimer: Spark is frequently updated their version, when Spark is updated,\n",
        "              some line cannot be executed.\n",
        "\n",
        "              To fix this, change the Saprk to the latest version and try to again\n",
        "\n",
        "Tutorial: https://github.com/Walkisible/Big_Data_Analytics/blob/main/Spark_install.py\n",
        "<FILL IN>\n",
        "'''\n",
        "\n"
      ],
      "metadata": {
        "id": "lLgKZjyqqB4c",
        "colab": {
          "base_uri": "https://localhost:8080/",
          "height": 53
        },
        "outputId": "12e54cd2-346f-4def-e43b-75701a975de4"
      },
      "execution_count": 5,
      "outputs": [
        {
          "output_type": "execute_result",
          "data": {
            "text/plain": [
              "'\\nSpark installation source code\\n\\n* Disclaimer: Spark is frequently updated their version, when Spark is updated,\\n              some line cannot be executed.\\n\\n              To fix this, change the Saprk to the latest version and try to again\\n\\nTutorial: https://github.com/Walkisible/Big_Data_Analytics/blob/main/Spark_install.py\\n<FILL IN>\\n'"
            ],
            "application/vnd.google.colaboratory.intrinsic+json": {
              "type": "string"
            }
          },
          "metadata": {},
          "execution_count": 5
        }
      ]
    },
    {
      "cell_type": "markdown",
      "metadata": {
        "id": "40tIC4ECEkSm"
      },
      "source": [
        "#### ** (1a) Create a base RDD **\n",
        "#### We'll start by generating a base RDD by using a Python list and the `sc.parallelize` method.  Then we'll print out the type of the base RDD."
      ]
    },
    {
      "cell_type": "code",
      "execution_count": 6,
      "metadata": {
        "id": "P5wNNx0tEkSn",
        "colab": {
          "base_uri": "https://localhost:8080/"
        },
        "outputId": "e8356f57-b0af-4a87-f0cb-8183a01303a0"
      },
      "outputs": [
        {
          "output_type": "stream",
          "name": "stdout",
          "text": [
            "<class 'pyspark.rdd.RDD'>\n"
          ]
        }
      ],
      "source": [
        "wordsList = ['cat', 'elephant', 'rat', 'rat', 'cat']\n",
        "wordsRDD = sc.parallelize(wordsList, 4)\n",
        "# Print out the type of wordsRDD\n",
        "print(type(wordsRDD))"
      ]
    },
    {
      "cell_type": "markdown",
      "metadata": {
        "id": "cHXXj4ZNEkSo"
      },
      "source": [
        "#### ** (1b) Pluralize and test **\n",
        "#### Let's use a `map()` transformation to add the letter 's' to each string in the base RDD we just created. We'll define a Python function that returns the word with an 's' at the end of the word.  Please replace `<FILL IN>` with your solution.  If you have trouble, the next cell has the solution.  After you have defined `makePlural` you can run the third cell which contains a test.  If you implementation is correct it will print `1 test passed`.\n",
        "#### This is the general form that exercises will take, except that no example solution will be provided.  Exercises will include an explanation of what is expected, followed by code cells where one cell will have one or more `<FILL IN>` sections.  The cell that needs to be modified will have `# TODO: Replace <FILL IN> with appropriate code` on its first line.  Once the `<FILL IN>` sections are updated and the code is run, the test cell can then be run to verify the correctness of your solution.  The last code cell before the next markdown section will contain the tests."
      ]
    },
    {
      "cell_type": "code",
      "execution_count": 7,
      "metadata": {
        "id": "yO5Zlr2wEkSo",
        "colab": {
          "base_uri": "https://localhost:8080/"
        },
        "outputId": "da2b09ef-31ea-4f0f-bd24-bfbf1d14857b"
      },
      "outputs": [
        {
          "output_type": "stream",
          "name": "stdout",
          "text": [
            "cats\n"
          ]
        }
      ],
      "source": [
        "# TODO: Replace <FILL IN> with appropriate code\n",
        "def makePlural(word):\n",
        "    \"\"\"Adds an 's' to `word`.\n",
        "\n",
        "    Note:\n",
        "        This is a simple function that only adds an 's'.  No attempt is made to follow proper\n",
        "        pluralization rules.\n",
        "\n",
        "    Args:\n",
        "        word (str): A string.\n",
        "\n",
        "    Returns:\n",
        "        str: A string with 's' added to it.\n",
        "    \"\"\"\n",
        "    return word + \"s\"\n",
        "\n",
        "print(makePlural(\"cat\"))"
      ]
    },
    {
      "cell_type": "code",
      "execution_count": 8,
      "metadata": {
        "id": "53ARmZVOEkSp",
        "colab": {
          "base_uri": "https://localhost:8080/"
        },
        "outputId": "359cf0b5-8332-42b4-8c9f-b32d851d2eb9"
      },
      "outputs": [
        {
          "output_type": "stream",
          "name": "stdout",
          "text": [
            "cats\n"
          ]
        }
      ],
      "source": [
        "# One way of completing the function\n",
        "def makePlural(word):\n",
        "    return word + 's'\n",
        "\n",
        "print(makePlural('cat'))"
      ]
    },
    {
      "cell_type": "code",
      "execution_count": 9,
      "metadata": {
        "id": "JF5pVIv6EkSp",
        "colab": {
          "base_uri": "https://localhost:8080/"
        },
        "outputId": "724ea748-8e2e-432b-b6d2-fb011accb3f8"
      },
      "outputs": [
        {
          "output_type": "stream",
          "name": "stdout",
          "text": [
            "1 test passed. \n"
          ]
        }
      ],
      "source": [
        "# Load in the testing code and check to see if your answer is correct\n",
        "# If incorrect it will report back '1 test failed' for each failed test\n",
        "# Make sure to rerun any cell you change before trying the test again\n",
        "from test_helper import Test\n",
        "# TEST Pluralize and test (1b)\n",
        "Test.assertEquals(makePlural('rat'), 'rats', 'incorrect result: makePlural does not add an s')"
      ]
    },
    {
      "cell_type": "markdown",
      "metadata": {
        "id": "pCBnfuvsEkSq"
      },
      "source": [
        "#### ** (1c) Apply `makePlural` to the base RDD **\n",
        "#### Now pass each item in the base RDD into a [map()](http://spark.apache.org/docs/latest/api/python/pyspark.html#pyspark.RDD.map) transformation that applies the `makePlural()` function to each element. And then call the [collect()](http://spark.apache.org/docs/latest/api/python/pyspark.html#pyspark.RDD.collect) action to see the transformed RDD."
      ]
    },
    {
      "cell_type": "code",
      "execution_count": 10,
      "metadata": {
        "id": "R_vSuIMpEkSq",
        "colab": {
          "base_uri": "https://localhost:8080/"
        },
        "outputId": "7a09be80-feed-4272-cac5-490cfa6d8967"
      },
      "outputs": [
        {
          "output_type": "stream",
          "name": "stdout",
          "text": [
            "['cats', 'elephants', 'rats', 'rats', 'cats']\n"
          ]
        }
      ],
      "source": [
        "# TODO: Replace <FILL IN> with appropriate code\n",
        "pluralRDD = wordsRDD.map(makePlural)\n",
        "print(pluralRDD.collect())"
      ]
    },
    {
      "cell_type": "code",
      "execution_count": 11,
      "metadata": {
        "id": "si07aEb5EkSq",
        "colab": {
          "base_uri": "https://localhost:8080/"
        },
        "outputId": "8968a309-05e7-4f28-b60f-5a7ed1540cfa"
      },
      "outputs": [
        {
          "output_type": "stream",
          "name": "stdout",
          "text": [
            "1 test passed. \n"
          ]
        }
      ],
      "source": [
        "# TEST Apply makePlural to the base RDD(1c)\n",
        "Test.assertEquals(pluralRDD.collect(), ['cats', 'elephants', 'rats', 'rats', 'cats'],\n",
        "                  'incorrect values for pluralRDD')"
      ]
    },
    {
      "cell_type": "markdown",
      "metadata": {
        "id": "32Okbg8hEkSr"
      },
      "source": [
        "#### ** (1d) Pass a `lambda` function to `map` **\n",
        "#### Let's create the same RDD using a `lambda` function."
      ]
    },
    {
      "cell_type": "code",
      "execution_count": 12,
      "metadata": {
        "id": "15N3FjIQEkSr",
        "colab": {
          "base_uri": "https://localhost:8080/"
        },
        "outputId": "77979d27-474d-4a4a-f9e3-684d810107ee"
      },
      "outputs": [
        {
          "output_type": "stream",
          "name": "stdout",
          "text": [
            "['cats', 'elephants', 'rats', 'rats', 'cats']\n"
          ]
        }
      ],
      "source": [
        "# TODO: Replace <FILL IN> with appropriate code\n",
        "pluralLambdaRDD = wordsRDD.map(lambda x : x + 's')\n",
        "print(pluralLambdaRDD.collect())"
      ]
    },
    {
      "cell_type": "code",
      "execution_count": 13,
      "metadata": {
        "id": "_MNIA_bnEkSr",
        "colab": {
          "base_uri": "https://localhost:8080/"
        },
        "outputId": "206c2f2d-ecf8-442f-e269-488253c4127a"
      },
      "outputs": [
        {
          "output_type": "stream",
          "name": "stdout",
          "text": [
            "1 test passed. \n"
          ]
        }
      ],
      "source": [
        "# TEST Pass a lambda function to map (1d)\n",
        "Test.assertEquals(pluralLambdaRDD.collect(), ['cats', 'elephants', 'rats', 'rats', 'cats'],\n",
        "                  'incorrect values for pluralLambdaRDD (1d)')"
      ]
    },
    {
      "cell_type": "markdown",
      "metadata": {
        "id": "glMUPI7aEkSs"
      },
      "source": [
        "#### ** (1e) Length of each word **\n",
        "#### Now use `map()` and a `lambda` function to return the number of characters in each word.  We'll `collect` this result directly into a variable."
      ]
    },
    {
      "cell_type": "code",
      "execution_count": 14,
      "metadata": {
        "id": "xAq4dO8YEkSs",
        "colab": {
          "base_uri": "https://localhost:8080/"
        },
        "outputId": "259f88e5-b2c7-41b4-cb5f-99cbddab60b7"
      },
      "outputs": [
        {
          "output_type": "stream",
          "name": "stdout",
          "text": [
            "[4, 9, 4, 4, 4]\n"
          ]
        }
      ],
      "source": [
        "# TODO: Replace <FILL IN> with appropriate code\n",
        "pluralLengths = (pluralRDD\n",
        "                 .map(lambda x : len(x))\n",
        "                 .collect())\n",
        "print(pluralLengths)"
      ]
    },
    {
      "cell_type": "code",
      "execution_count": 15,
      "metadata": {
        "id": "gzMNaNwVEkSs",
        "colab": {
          "base_uri": "https://localhost:8080/"
        },
        "outputId": "a1bfe3f0-77be-4ec1-d0ab-9524498da581"
      },
      "outputs": [
        {
          "output_type": "stream",
          "name": "stdout",
          "text": [
            "1 test passed. \n"
          ]
        }
      ],
      "source": [
        "# TEST Length of each word (1e)\n",
        "Test.assertEquals(pluralLengths, [4, 9, 4, 4, 4],\n",
        "                  'incorrect values for pluralLengths')"
      ]
    },
    {
      "cell_type": "markdown",
      "metadata": {
        "id": "oiiKeOtjEkSt"
      },
      "source": [
        "#### ** (1f) Pair RDDs **\n",
        "#### The next step in writing our word counting program is to create a new type of RDD, called a pair RDD. A pair RDD is an RDD where each element is a pair tuple `(k, v)` where `k` is the key and `v` is the value. In this example, we will create a pair consisting of `('<word>', 1)` for each word element in the RDD.\n",
        "#### We can create the pair RDD using the `map()` transformation with a `lambda()` function to create a new RDD."
      ]
    },
    {
      "cell_type": "code",
      "execution_count": 16,
      "metadata": {
        "id": "w82j2IzzEkSt",
        "colab": {
          "base_uri": "https://localhost:8080/"
        },
        "outputId": "738f68e5-c118-4f60-9198-5ee98ea5fa41"
      },
      "outputs": [
        {
          "output_type": "stream",
          "name": "stdout",
          "text": [
            "[('cat', 1), ('elephant', 1), ('rat', 1), ('rat', 1), ('cat', 1)]\n"
          ]
        }
      ],
      "source": [
        "# TODO: Replace <FILL IN> with appropriate code\n",
        "wordPairs = wordsRDD.map(lambda x : (x,1))\n",
        "print(wordPairs.collect())"
      ]
    },
    {
      "cell_type": "code",
      "execution_count": 17,
      "metadata": {
        "id": "gYFZfXDhEkSt",
        "colab": {
          "base_uri": "https://localhost:8080/"
        },
        "outputId": "2476095e-4429-4e5e-e5de-19ecb259f4f5"
      },
      "outputs": [
        {
          "output_type": "stream",
          "name": "stdout",
          "text": [
            "1 test passed. \n"
          ]
        }
      ],
      "source": [
        "# TEST Pair RDDs (1f)\n",
        "Test.assertEquals(wordPairs.collect(),\n",
        "                  [('cat', 1), ('elephant', 1), ('rat', 1), ('rat', 1), ('cat', 1)],\n",
        "                  'incorrect value for wordPairs')"
      ]
    },
    {
      "cell_type": "markdown",
      "metadata": {
        "id": "Q-doFdRKEkSu"
      },
      "source": [
        "### ** Part 2: Counting with pair RDDs **"
      ]
    },
    {
      "cell_type": "markdown",
      "metadata": {
        "id": "UAvUqBvGEkSu"
      },
      "source": [
        "#### Now, let's count the number of times a particular word appears in the RDD. There are multiple ways to perform the counting, but some are much less efficient than others.\n",
        "#### A naive approach would be to `collect()` all of the elements and count them in the driver program. While this approach could work for small datasets, we want an approach that will work for any size dataset including terabyte- or petabyte-sized datasets. In addition, performing all of the work in the driver program is slower than performing it in parallel in the workers. For these reasons, we will use data parallel operations."
      ]
    },
    {
      "cell_type": "markdown",
      "metadata": {
        "id": "eVTBKDboEkSu"
      },
      "source": [
        "#### ** (2a) `groupByKey()` approach **\n",
        "#### An approach you might first consider (we'll see shortly that there are better ways) is based on using the [groupByKey()](http://spark.apache.org/docs/latest/api/python/pyspark.html#pyspark.RDD.groupByKey) transformation. As the name implies, the `groupByKey()` transformation groups all the elements of the RDD with the same key into a single list in one of the partitions. There are two problems with using `groupByKey()`:\n",
        "  + #### The operation requires a lot of data movement to move all the values into the appropriate partitions.\n",
        "  + #### The lists can be very large. Consider a word count of English Wikipedia: the lists for common words (e.g., the, a, etc.) would be huge and could exhaust the available memory in a worker.\n",
        "\n",
        "#### Use `groupByKey()` to generate a pair RDD of type `('word', iterator)`."
      ]
    },
    {
      "cell_type": "code",
      "execution_count": 18,
      "metadata": {
        "id": "ATrFanN3EkSv",
        "colab": {
          "base_uri": "https://localhost:8080/"
        },
        "outputId": "955d3734-ec5b-42df-bdfe-d786cd8f63c4"
      },
      "outputs": [
        {
          "output_type": "stream",
          "name": "stdout",
          "text": [
            "cat: [1, 1]\n",
            "elephant: [1]\n",
            "rat: [1, 1]\n"
          ]
        }
      ],
      "source": [
        "# TODO: Replace <FILL IN> with appropriate code\n",
        "# Note that groupByKey requires no parameters\n",
        "wordsGrouped = wordPairs.groupByKey().mapValues(lambda x:list(x))\n",
        "for key, value in wordsGrouped.collect():\n",
        "    print('{0}: {1}'.format(key, list(value)))"
      ]
    },
    {
      "cell_type": "code",
      "execution_count": 19,
      "metadata": {
        "id": "kzIrEhFAEkSw",
        "colab": {
          "base_uri": "https://localhost:8080/"
        },
        "outputId": "b44dac87-2dec-4d4e-9f00-42b0d58ccea2"
      },
      "outputs": [
        {
          "output_type": "stream",
          "name": "stdout",
          "text": [
            "1 test passed. \n"
          ]
        }
      ],
      "source": [
        "# TEST groupByKey() approach (2a)\n",
        "Test.assertEquals(sorted(wordsGrouped.mapValues(lambda x: list(x)).collect()),\n",
        "                  [('cat', [1, 1]), ('elephant', [1]), ('rat', [1, 1])],\n",
        "                  'incorrect value for wordsGrouped')"
      ]
    },
    {
      "cell_type": "markdown",
      "metadata": {
        "id": "ANmToCz-EkSw"
      },
      "source": [
        "#### ** (2b) Use `groupByKey()` to obtain the counts **\n",
        "#### Using the `groupByKey()` transformation creates an RDD containing 3 elements, each of which is a pair of a word and a Python iterator.\n",
        "#### Now sum the iterator using a `map()` transformation.  The result should be a pair RDD consisting of (word, count) pairs."
      ]
    },
    {
      "cell_type": "code",
      "execution_count": 20,
      "metadata": {
        "id": "k-Zf-61KEkSx",
        "colab": {
          "base_uri": "https://localhost:8080/"
        },
        "outputId": "0751e8de-4d73-4a9f-a9c8-d29558d7d522"
      },
      "outputs": [
        {
          "output_type": "stream",
          "name": "stdout",
          "text": [
            "[('cat', 2), ('elephant', 1), ('rat', 2)]\n"
          ]
        }
      ],
      "source": [
        "# TODO: Replace <FILL IN> with appropriate code\n",
        "wordCountsGrouped = wordsGrouped.mapValues(lambda x: sum(x))\n",
        "print(wordCountsGrouped.collect())"
      ]
    },
    {
      "cell_type": "code",
      "execution_count": 21,
      "metadata": {
        "id": "_HnZnsXWEkSx",
        "colab": {
          "base_uri": "https://localhost:8080/"
        },
        "outputId": "3d1a7596-a313-4c66-fcca-45afcc628f40"
      },
      "outputs": [
        {
          "output_type": "stream",
          "name": "stdout",
          "text": [
            "1 test passed. \n"
          ]
        }
      ],
      "source": [
        "# TEST Use groupByKey() to obtain the counts (2b)\n",
        "Test.assertEquals(sorted(wordCountsGrouped.collect()),\n",
        "                  [('cat', 2), ('elephant', 1), ('rat', 2)],\n",
        "                  'incorrect value for wordCountsGrouped')"
      ]
    },
    {
      "cell_type": "markdown",
      "metadata": {
        "id": "NBqsPezrEkSx"
      },
      "source": [
        "#### ** (2c) Counting using `reduceByKey` **\n",
        "#### A better approach is to start from the pair RDD and then use the [reduceByKey()](http://spark.apache.org/docs/latest/api/python/pyspark.html#pyspark.RDD.reduceByKey) transformation to create a new pair RDD. The `reduceByKey()` transformation gathers together pairs that have the same key and applies the function provided to two values at a time, iteratively reducing all of the values to a single value. `reduceByKey()` operates by applying the function first within each partition on a per-key basis and then across the partitions, allowing it to scale efficiently to large datasets."
      ]
    },
    {
      "cell_type": "code",
      "execution_count": 22,
      "metadata": {
        "id": "o2aBCSBLEkSy",
        "colab": {
          "base_uri": "https://localhost:8080/"
        },
        "outputId": "9a3e7d33-4e52-4e22-c2b5-98870bff3980"
      },
      "outputs": [
        {
          "output_type": "stream",
          "name": "stdout",
          "text": [
            "[('cat', 2), ('elephant', 1), ('rat', 2)]\n"
          ]
        }
      ],
      "source": [
        "# TODO: Replace <FILL IN> with appropriate code\n",
        "# Note that reduceByKey takes in a function that accepts two values and returns a single value\n",
        "from operator import add\n",
        "wordCounts = wordPairs.reduceByKey(add)\n",
        "print(wordCounts.collect())"
      ]
    },
    {
      "cell_type": "code",
      "execution_count": 23,
      "metadata": {
        "id": "p_hWNX9AEkSy",
        "colab": {
          "base_uri": "https://localhost:8080/"
        },
        "outputId": "a02a2290-00ad-4cca-943e-f071c893a6dd"
      },
      "outputs": [
        {
          "output_type": "stream",
          "name": "stdout",
          "text": [
            "1 test passed. \n"
          ]
        }
      ],
      "source": [
        "# TEST Counting using reduceByKey (2c)\n",
        "Test.assertEquals(sorted(wordCounts.collect()), [('cat', 2), ('elephant', 1), ('rat', 2)],\n",
        "                  'incorrect value for wordCounts')"
      ]
    },
    {
      "cell_type": "markdown",
      "metadata": {
        "id": "YuIfm175EkSy"
      },
      "source": [
        "#### ** (2d) All together **\n",
        "#### The expert version of the code performs the `map()` to pair RDD, `reduceByKey()` transformation, and `collect` in one statement."
      ]
    },
    {
      "cell_type": "code",
      "execution_count": 24,
      "metadata": {
        "id": "vXj0wBymEkSy",
        "colab": {
          "base_uri": "https://localhost:8080/"
        },
        "outputId": "ace49315-d79f-4e90-8189-9497ce9f7c58"
      },
      "outputs": [
        {
          "output_type": "stream",
          "name": "stdout",
          "text": [
            "[('cat', 2), ('elephant', 1), ('rat', 2)]\n"
          ]
        }
      ],
      "source": [
        "# TODO: Replace <FILL IN> with appropriate code\n",
        "wordCountsCollected = (wordsRDD\n",
        "                       .map(lambda x : (x,1))\n",
        "                       .reduceByKey(add)\n",
        "                       .collect())\n",
        "print(wordCountsCollected)"
      ]
    },
    {
      "cell_type": "code",
      "execution_count": 25,
      "metadata": {
        "id": "urQHRK1YEkSz",
        "colab": {
          "base_uri": "https://localhost:8080/"
        },
        "outputId": "ad4e4eea-0780-4bcd-d33a-6d03f8d47de0"
      },
      "outputs": [
        {
          "output_type": "stream",
          "name": "stdout",
          "text": [
            "1 test passed. \n"
          ]
        }
      ],
      "source": [
        "# TEST All together (2d)\n",
        "Test.assertEquals(sorted(wordCountsCollected), [('cat', 2), ('elephant', 1), ('rat', 2)],\n",
        "                  'incorrect value for wordCountsCollected')"
      ]
    },
    {
      "cell_type": "markdown",
      "metadata": {
        "id": "QSw-9RGWEkSz"
      },
      "source": [
        "### ** Part 3: Finding unique words and a mean value **"
      ]
    },
    {
      "cell_type": "markdown",
      "metadata": {
        "id": "bxzEnACxEkSz"
      },
      "source": [
        "#### ** (3a) Unique words **\n",
        "#### Calculate the number of unique words in `wordsRDD`.  You can use other RDDs that you have already created to make this easier."
      ]
    },
    {
      "cell_type": "code",
      "execution_count": 26,
      "metadata": {
        "id": "NZB3E3xWEkSz",
        "colab": {
          "base_uri": "https://localhost:8080/"
        },
        "outputId": "b4858354-700e-4003-dd39-353d587bad9c"
      },
      "outputs": [
        {
          "output_type": "stream",
          "name": "stdout",
          "text": [
            "3\n"
          ]
        }
      ],
      "source": [
        "# TODO: Replace <FILL IN> with appropriate code\n",
        "uniqueWords = wordsRDD.distinct().count()\n",
        "print(uniqueWords)"
      ]
    },
    {
      "cell_type": "code",
      "execution_count": 27,
      "metadata": {
        "id": "cL4cJftdEkS0",
        "colab": {
          "base_uri": "https://localhost:8080/"
        },
        "outputId": "2b1798a6-c85e-4310-a03f-aa8539d8e2e3"
      },
      "outputs": [
        {
          "output_type": "stream",
          "name": "stdout",
          "text": [
            "1 test passed. \n"
          ]
        }
      ],
      "source": [
        "# TEST Unique words (3a)\n",
        "Test.assertEquals(uniqueWords, 3, 'incorrect count of uniqueWords')"
      ]
    },
    {
      "cell_type": "markdown",
      "metadata": {
        "id": "uzL9kGIBEkS0"
      },
      "source": [
        "#### ** (3b) Mean using `reduce` **\n",
        "#### Find the mean number of words per unique word in `wordCounts`.\n",
        "#### Use a `reduce()` action to sum the counts in `wordCounts` and then divide by the number of unique words.  First `map()` the pair RDD `wordCounts`, which consists of (key, value) pairs, to an RDD of values."
      ]
    },
    {
      "cell_type": "code",
      "execution_count": 28,
      "metadata": {
        "id": "I9bnCx1hEkS0",
        "colab": {
          "base_uri": "https://localhost:8080/"
        },
        "outputId": "62fe074f-dcfb-456a-bb5d-fa1c3efde2b6"
      },
      "outputs": [
        {
          "output_type": "stream",
          "name": "stdout",
          "text": [
            "5\n",
            "5\n",
            "1.67\n"
          ]
        }
      ],
      "source": [
        "# TODO: Replace <FILL IN> with appropriate code\n",
        "from operator import add\n",
        "totalCount = (wordsRDD.count())\n",
        "print(totalCount)\n",
        "average = totalCount / float(uniqueWords)\n",
        "print(totalCount)\n",
        "print(round(average, 2))"
      ]
    },
    {
      "cell_type": "code",
      "execution_count": 29,
      "metadata": {
        "id": "nkuRv1naEkS0",
        "colab": {
          "base_uri": "https://localhost:8080/"
        },
        "outputId": "b5ada8e8-a3a7-4932-b783-7eccefdf5638"
      },
      "outputs": [
        {
          "output_type": "stream",
          "name": "stdout",
          "text": [
            "1 test passed. \n"
          ]
        }
      ],
      "source": [
        "# TEST Mean using reduce (3b)\n",
        "Test.assertEquals(round(average, 2), 1.67, 'incorrect value of average')"
      ]
    },
    {
      "cell_type": "markdown",
      "metadata": {
        "id": "JPAaJy65EkS1"
      },
      "source": [
        "### ** Part 4: Apply word count to a file **"
      ]
    },
    {
      "cell_type": "markdown",
      "metadata": {
        "id": "45ZIS5X-EkS1"
      },
      "source": [
        "#### In this section we will finish developing our word count application.  We'll have to build the `wordCount` function, deal with real world problems like capitalization and punctuation, load in our data source, and compute the word count on the new data."
      ]
    },
    {
      "cell_type": "markdown",
      "metadata": {
        "id": "KZ1PbwSLEkS1"
      },
      "source": [
        "#### ** (4a) `wordCount` function **\n",
        "#### First, define a function for word counting.  You should reuse the techniques that have been covered in earlier parts of this lab.  This function should take in an RDD that is a list of words like `wordsRDD` and return a pair RDD that has all of the words and their associated counts."
      ]
    },
    {
      "cell_type": "code",
      "execution_count": 30,
      "metadata": {
        "id": "CWm9qxbwEkS1",
        "colab": {
          "base_uri": "https://localhost:8080/"
        },
        "outputId": "592aa032-a72a-4fcc-ff18-454ce04dc013"
      },
      "outputs": [
        {
          "output_type": "stream",
          "name": "stdout",
          "text": [
            "[('cat', 2), ('elephant', 1), ('rat', 2)]\n"
          ]
        }
      ],
      "source": [
        "# TODO: Replace <FILL IN> with appropriate code\n",
        "def wordCount(wordListRDD):\n",
        "    \"\"\"Creates a pair RDD with word counts from an RDD of words.\n",
        "\n",
        "    Args:\n",
        "        wordListRDD (RDD of str): An RDD consisting of words.\n",
        "\n",
        "    Returns:\n",
        "        RDD of (str, int): An RDD consisting of (word, count) tuples.\n",
        "    \"\"\"\n",
        "    return wordListRDD.map(lambda x : (x,1)).reduceByKey(add)\n",
        "print(wordCount(wordsRDD).collect())"
      ]
    },
    {
      "cell_type": "code",
      "execution_count": 31,
      "metadata": {
        "id": "pNRDAUVLEkS2",
        "colab": {
          "base_uri": "https://localhost:8080/"
        },
        "outputId": "85cf4856-ce6c-42c1-f003-c780babcf457"
      },
      "outputs": [
        {
          "output_type": "stream",
          "name": "stdout",
          "text": [
            "1 test passed. \n"
          ]
        }
      ],
      "source": [
        "# TEST wordCount function (4a)\n",
        "Test.assertEquals(sorted(wordCount(wordsRDD).collect()),\n",
        "                  [('cat', 2), ('elephant', 1), ('rat', 2)],\n",
        "                  'incorrect definition for wordCount function')"
      ]
    },
    {
      "cell_type": "markdown",
      "metadata": {
        "id": "wv83EErDEkS2"
      },
      "source": [
        "#### ** (4b) Capitalization and punctuation **\n",
        "#### Real world files are more complicated than the data we have been using in this lab. Some of the issues we have to address are:\n",
        "  + #### Words should be counted independent of their capitialization (e.g., Spark and spark should be counted as the same word).\n",
        "  + #### All punctuation should be removed.\n",
        "  + #### Any leading or trailing spaces on a line should be removed.\n",
        "\n",
        "#### Define the function `removePunctuation` that converts all text to lower case, removes any punctuation, and removes leading and trailing spaces.  Use the Python [re](https://docs.python.org/2/library/re.html) module to remove any text that is not a letter, number, or space. Reading `help(re.sub)` might be useful."
      ]
    },
    {
      "cell_type": "code",
      "execution_count": 32,
      "metadata": {
        "id": "pLEYFr8nEkS2",
        "colab": {
          "base_uri": "https://localhost:8080/"
        },
        "outputId": "6fe48c57-0e36-451f-edbd-b0a97bd067c0"
      },
      "outputs": [
        {
          "output_type": "stream",
          "name": "stdout",
          "text": [
            "hi you\n",
            "no underscore\n",
            "the elephants 4 cats\n"
          ]
        }
      ],
      "source": [
        "# TODO: Replace <FILL IN> with appropriate code\n",
        "import re\n",
        "def removePunctuation(text):\n",
        "    \"\"\"Removes punctuation, changes to lower case, and strips leading and trailing spaces.\n",
        "\n",
        "    Note:\n",
        "        Only spaces, letters, and numbers should be retained.  Other characters should should be\n",
        "        eliminated (e.g. it's becomes its).  Leading and trailing spaces should be removed after\n",
        "        punctuation is removed.\n",
        "\n",
        "    Args:\n",
        "        text (str): A string.\n",
        "\n",
        "    Returns:\n",
        "        str: The cleaned up string.\n",
        "    \"\"\"\n",
        "    not_word = [\"'\" , \"_\" , \"!\" , \".\", \"\\n\", \"}\" , \"{\" , \",\", \"(\" , \")\", '\"' , \"/\" , \"\\\\\" , \":\", \";\", \"<\", \">\",\"?\" , \"*\" ,\"+\" , \"=\" , \"-\" , \"^\", \"#\",\"@\" , \"$\" , \"%\" , \"&\", \"|\", \"[\" , \"]\" , \"`\",\"~\"]\n",
        "\n",
        "    for j in text:\n",
        "      if j in not_word:\n",
        "        text = text.replace(j,\"\")\n",
        "    return text.lower().strip()\n",
        "\n",
        "print(removePunctuation('Hi, you!'))\n",
        "print(removePunctuation(' No under_score!'))\n",
        "print(removePunctuation(\" The Elephant's 4 cats. \"))"
      ]
    },
    {
      "cell_type": "code",
      "execution_count": 33,
      "metadata": {
        "id": "3gquC183EkS2",
        "colab": {
          "base_uri": "https://localhost:8080/"
        },
        "outputId": "c562a179-cdd6-4721-9959-ca50ad3ffeb4"
      },
      "outputs": [
        {
          "output_type": "stream",
          "name": "stdout",
          "text": [
            "1 test passed. \n"
          ]
        }
      ],
      "source": [
        "# TEST Capitalization and punctuation (4b)\n",
        "Test.assertEquals(removePunctuation(\" The Elephant's 4 cats. \"),\n",
        "                  'the elephants 4 cats',\n",
        "                  'incorrect definition for removePunctuation function')"
      ]
    },
    {
      "cell_type": "markdown",
      "metadata": {
        "id": "xERfdZHtEkS2"
      },
      "source": [
        "#### ** (4c) Load a text file **\n",
        "#### For the next part of this lab, we will use the [Complete Works of William Shakespeare](http://www.gutenberg.org/ebooks/100) from [Project Gutenberg](http://www.gutenberg.org/wiki/Main_Page). To convert a text file into an RDD, we use the `SparkContext.textFile()` method. We also apply the recently defined `removePunctuation()` function using a `map()` transformation to strip out the punctuation and change all text to lowercase.  Since the file is large we use `take(15)`, so that we only print 15 lines."
      ]
    },
    {
      "cell_type": "code",
      "execution_count": 34,
      "metadata": {
        "id": "XXV4im1buXFq"
      },
      "outputs": [],
      "source": [
        "# Print RDD function, optional way to print out text RDD\n",
        "def printRDD(data,num):\n",
        "    for line in data.take(num):\n",
        "        print(line)"
      ]
    },
    {
      "cell_type": "code",
      "source": [
        "# download data\n",
        "!mkdir data\n",
        "%cd 'data'\n",
        "!wget https://github.com/Walkisible/Big_Data_Analytics/raw/main/dataset/shakespeare.txt\n",
        "%cd '/content'"
      ],
      "metadata": {
        "id": "dt2uK4skqJqH",
        "colab": {
          "base_uri": "https://localhost:8080/"
        },
        "outputId": "5433c67f-d640-4ed5-bed1-96cb0fbbc577"
      },
      "execution_count": 35,
      "outputs": [
        {
          "output_type": "stream",
          "name": "stdout",
          "text": [
            "/content/data\n",
            "--2024-01-25 11:44:28--  https://github.com/Walkisible/Big_Data_Analytics/raw/main/dataset/shakespeare.txt\n",
            "Resolving github.com (github.com)... 140.82.114.4\n",
            "Connecting to github.com (github.com)|140.82.114.4|:443... connected.\n",
            "HTTP request sent, awaiting response... 302 Found\n",
            "Location: https://raw.githubusercontent.com/Walkisible/Big_Data_Analytics/main/dataset/shakespeare.txt [following]\n",
            "--2024-01-25 11:44:29--  https://raw.githubusercontent.com/Walkisible/Big_Data_Analytics/main/dataset/shakespeare.txt\n",
            "Resolving raw.githubusercontent.com (raw.githubusercontent.com)... 185.199.111.133, 185.199.109.133, 185.199.108.133, ...\n",
            "Connecting to raw.githubusercontent.com (raw.githubusercontent.com)|185.199.111.133|:443... connected.\n",
            "HTTP request sent, awaiting response... 200 OK\n",
            "Length: 5327978 (5.1M) [text/plain]\n",
            "Saving to: ‘shakespeare.txt’\n",
            "\n",
            "shakespeare.txt     100%[===================>]   5.08M  --.-KB/s    in 0.09s   \n",
            "\n",
            "2024-01-25 11:44:29 (57.4 MB/s) - ‘shakespeare.txt’ saved [5327978/5327978]\n",
            "\n",
            "/content\n"
          ]
        }
      ]
    },
    {
      "cell_type": "code",
      "execution_count": 36,
      "metadata": {
        "id": "Go_T-ZB7EkS3",
        "colab": {
          "base_uri": "https://localhost:8080/"
        },
        "outputId": "f8303388-0e2b-4e88-cd4f-5e16b5d1bdde"
      },
      "outputs": [
        {
          "output_type": "stream",
          "name": "stdout",
          "text": [
            "1609\n",
            "\n",
            "the sonnets\n",
            "\n",
            "by william shakespeare\n",
            "\n",
            "\n",
            "\n",
            "1\n",
            "from fairest creatures we desire increase\n",
            "that thereby beautys rose might never die\n",
            "but as the riper should by time decease\n",
            "his tender heir might bear his memory\n",
            "but thou contracted to thine own bright eyes\n",
            "feedst thy lights flame with selfsubstantial fuel\n"
          ]
        }
      ],
      "source": [
        "# Just run this code\n",
        "shakespeareRDD = (sc\n",
        "                  .textFile(\"/content/data/shakespeare.txt\", 8)\n",
        "                  .map(removePunctuation))\n",
        "\n",
        "# Use alternative function to print out text in RDD, compatible for spark 3.X +\n",
        "printRDD(shakespeareRDD, 15)\n",
        "\n",
        "#print('\\n'.join(shakespeareRDD\n",
        " #               .zipWithIndex()  # to (line, lineNum)\n",
        " #               .flatMap(lambda num, l : '{0}: {1}'.format(num, l))  # to 'lineNum: line'\n",
        " #               .take(15)))"
      ]
    },
    {
      "cell_type": "markdown",
      "metadata": {
        "id": "Np50cajQEkS3"
      },
      "source": [
        "#### ** (4d) Words from lines **\n",
        "#### Before we can use the `wordcount()` function, we have to address two issues with the format of the RDD:\n",
        "  + #### The first issue is that  that we need to split each line by its spaces.\n",
        "  + #### The second issue is we need to filter out empty lines.\n",
        "\n",
        "#### Apply a transformation that will split each element of the RDD by its spaces. For each element of the RDD, you should apply Python's string [split()](https://docs.python.org/2/library/string.html#string.split) function. You might think that a `map()` transformation is the way to do this, but think about what the result of the `split()` function will be."
      ]
    },
    {
      "cell_type": "code",
      "source": [
        "def word_line(text):\n",
        "  list_text = []\n",
        "  for i in text:\n",
        "    new_text = \"\"\n",
        "    if i != 0:\n",
        "      new_text = i.split()\n",
        "    list_text.append(new_text)\n",
        "    print(new_text)\n",
        "  return list_text\n"
      ],
      "metadata": {
        "id": "2d4Yy2lux3lO"
      },
      "execution_count": 37,
      "outputs": []
    },
    {
      "cell_type": "code",
      "execution_count": 38,
      "metadata": {
        "id": "QnUuZLXfEkS3",
        "colab": {
          "base_uri": "https://localhost:8080/"
        },
        "outputId": "95d3411b-5ef3-4f79-ccba-360f8e466951"
      },
      "outputs": [
        {
          "output_type": "stream",
          "name": "stderr",
          "text": [
            "IOPub data rate exceeded.\n",
            "The notebook server will temporarily stop sending output\n",
            "to the client in order to avoid crashing it.\n",
            "To change this limit, set the config variable\n",
            "`--NotebookApp.iopub_data_rate_limit`.\n",
            "\n",
            "Current values:\n",
            "NotebookApp.iopub_data_rate_limit=1000000.0 (bytes/sec)\n",
            "NotebookApp.rate_limit_window=3.0 (secs)\n",
            "\n"
          ]
        },
        {
          "output_type": "stream",
          "name": "stdout",
          "text": [
            "['zwaggerd', 'zounds', 'zounds', 'zounds', 'zounds']\n",
            "927631\n"
          ]
        }
      ],
      "source": [
        "# TODO: Replace <FILL IN> with appropriate code\n",
        "shakespeareWordsRDD = shakespeareRDD.flatMap(lambda line: line.split(\" \"))#.filter(lambda word: word!= \"\")\n",
        "print(shakespeareWordsRDD.collect())\n",
        "shakespeareWordCount = shakespeareWordsRDD.count()\n",
        "print(shakespeareWordsRDD.top(5))\n",
        "print(shakespeareWordCount)"
      ]
    },
    {
      "cell_type": "code",
      "source": [
        "print([u'zwaggerd', u'zounds', u'zounds', u'zounds', u'zounds'])"
      ],
      "metadata": {
        "colab": {
          "base_uri": "https://localhost:8080/"
        },
        "id": "c2cr_Bjlx9EP",
        "outputId": "099692ff-ea4e-42ae-f9f5-6d6a1cc9b52a"
      },
      "execution_count": 39,
      "outputs": [
        {
          "output_type": "stream",
          "name": "stdout",
          "text": [
            "['zwaggerd', 'zounds', 'zounds', 'zounds', 'zounds']\n"
          ]
        }
      ]
    },
    {
      "cell_type": "code",
      "execution_count": 40,
      "metadata": {
        "id": "ZFlwD53uEkS3",
        "colab": {
          "base_uri": "https://localhost:8080/"
        },
        "outputId": "1af95921-1d25-4b19-a178-e869bd6241fa"
      },
      "outputs": [
        {
          "output_type": "stream",
          "name": "stdout",
          "text": [
            "1 test passed. \n",
            "1 test passed. \n"
          ]
        }
      ],
      "source": [
        "# TEST Words from lines (4d)\n",
        "# This test allows for leading spaces to be removed either before or after\n",
        "# punctuation is removed.\n",
        "Test.assertTrue(shakespeareWordCount == 927631 or shakespeareWordCount == 928908,\n",
        "                'incorrect value for shakespeareWordCount')\n",
        "Test.assertEquals(shakespeareWordsRDD.top(5),\n",
        "                  [u'zwaggerd', u'zounds', u'zounds', u'zounds', u'zounds'],\n",
        "                  'incorrect value for shakespeareWordsRDD')"
      ]
    },
    {
      "cell_type": "markdown",
      "metadata": {
        "id": "WpQsJS-cEkS4"
      },
      "source": [
        "#### ** (4e) Remove empty elements **\n",
        "#### The next step is to filter out the empty elements.  Remove all entries where the word is `''`."
      ]
    },
    {
      "cell_type": "code",
      "execution_count": 41,
      "metadata": {
        "id": "RLaU2GnGEkS4",
        "colab": {
          "base_uri": "https://localhost:8080/"
        },
        "outputId": "866a08ef-a939-4f2f-e6eb-d97e1efa6b61"
      },
      "outputs": [
        {
          "output_type": "stream",
          "name": "stdout",
          "text": [
            "882996\n",
            "['zwaggerd', 'zounds', 'zounds', 'zounds', 'zounds']\n"
          ]
        }
      ],
      "source": [
        "# TODO: Replace <FILL IN> with appropriate code\n",
        "shakeWordsRDD = shakespeareWordsRDD.filter(lambda word: word!= \"\")\n",
        "shakeWordCount = shakeWordsRDD.count()\n",
        "print(shakeWordCount)\n",
        "print(shakeWordsRDD.top(5))"
      ]
    },
    {
      "cell_type": "code",
      "execution_count": 130,
      "metadata": {
        "id": "_X3TLgQzEkS4",
        "colab": {
          "base_uri": "https://localhost:8080/"
        },
        "outputId": "84e5aea7-1c95-4914-d0b5-e4872beaeb9f"
      },
      "outputs": [
        {
          "output_type": "stream",
          "name": "stdout",
          "text": [
            "1 test passed. \n"
          ]
        }
      ],
      "source": [
        "# TEST Remove empty elements (4e)\n",
        "Test.assertEquals(shakeWordCount, 882996, 'incorrect value for shakeWordCount')"
      ]
    },
    {
      "cell_type": "markdown",
      "metadata": {
        "id": "5_4D96JQEkS4"
      },
      "source": [
        "#### ** (4f) Count the words **\n",
        "#### We now have an RDD that is only words.  Next, let's apply the `wordCount()` function to produce a list of word counts. We can view the top 15 words by using the `takeOrdered()` action; however, since the elements of the RDD are pairs, we need a custom sort function that sorts using the value part of the pair.\n",
        "#### You'll notice that many of the words are common English words. These are called stopwords. In a later lab, we will see how to eliminate them from the results.\n",
        "#### Use the `wordCount()` function and `takeOrdered()` to obtain the fifteen most common words and their counts."
      ]
    },
    {
      "cell_type": "code",
      "execution_count": 51,
      "metadata": {
        "id": "whtGuf4CEkS4",
        "colab": {
          "base_uri": "https://localhost:8080/"
        },
        "outputId": "acfd3c76-fb07-4cf0-cd42-3f7636222267"
      },
      "outputs": [
        {
          "output_type": "stream",
          "name": "stdout",
          "text": [
            "[('the', 27361), ('and', 26028), ('i', 20681), ('to', 19150), ('of', 17463), ('a', 14593), ('you', 13615), ('my', 12481), ('in', 10956), ('that', 10890), ('is', 9134), ('not', 8497), ('with', 7771), ('me', 7769), ('it', 7678)]\n"
          ]
        }
      ],
      "source": [
        "# TODO: Replace <FILL IN> with appropriate code\n",
        "top15WordsAndCounts = wordCount(shakeWordsRDD).takeOrdered(15,key = lambda x : -x[1])\n",
        "print(top15WordsAndCounts)\n",
        "#print('\\n'.join(map(lambda w : '{0}'.format(w), top15WordsAndCounts)))"
      ]
    },
    {
      "cell_type": "code",
      "execution_count": 52,
      "metadata": {
        "id": "tNQ_aMsXEkS5",
        "colab": {
          "base_uri": "https://localhost:8080/"
        },
        "outputId": "79decca2-17d8-4a24-fe66-39e3eb7a2689"
      },
      "outputs": [
        {
          "output_type": "stream",
          "name": "stdout",
          "text": [
            "1 test passed. \n"
          ]
        }
      ],
      "source": [
        "# TEST Count the words (4f)\n",
        "Test.assertEquals(top15WordsAndCounts,\n",
        "                  [(u'the', 27361), (u'and', 26028), (u'i', 20681), (u'to', 19150), (u'of', 17463),\n",
        "                   (u'a', 14593), (u'you', 13615), (u'my', 12481), (u'in', 10956), (u'that', 10890),\n",
        "                   (u'is', 9134), (u'not', 8497), (u'with', 7771), (u'me', 7769), (u'it', 7678)],\n",
        "                  'incorrect value for top15WordsAndCounts')"
      ]
    },
    {
      "cell_type": "markdown",
      "source": [
        "## Part 5: clean your workspace"
      ],
      "metadata": {
        "id": "IDqeeN43qd14"
      }
    },
    {
      "cell_type": "code",
      "source": [
        "# Remove test_helper\n",
        "!rm -r test_helper\n",
        "\n",
        "# Remove Spark folder\n",
        "!rm -rf spark-3.4.0-bin-hadoop3\n",
        "\n",
        "# Remove data\n",
        "!rm -r data"
      ],
      "metadata": {
        "id": "nf-hgt0IqcCG"
      },
      "execution_count": null,
      "outputs": []
    },
    {
      "cell_type": "code",
      "source": [
        "!ls"
      ],
      "metadata": {
        "id": "-megQp7QqkDA"
      },
      "execution_count": null,
      "outputs": []
    }
  ],
  "metadata": {
    "colab": {
      "collapsed_sections": [
        "UAvUqBvGEkSu"
      ],
      "provenance": []
    },
    "kernelspec": {
      "display_name": "Python 3",
      "name": "python3"
    },
    "language_info": {
      "name": "python"
    }
  },
  "nbformat": 4,
  "nbformat_minor": 0
}